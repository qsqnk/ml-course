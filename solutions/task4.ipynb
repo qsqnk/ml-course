{
 "cells": [
  {
   "cell_type": "markdown",
   "metadata": {},
   "source": [
    "# Задача 4. Ансамбли\n",
    "\n",
    "* **Дедлайн**: 26.03.2023, 23:59\n",
    "* **Основной полный балл**: 5\n",
    "* **Максимум баллов**: 10\n",
    "\n",
    "## Задача\n",
    "\n",
    "- [x] Найти данные размера хотя бы 10000, на которых можно решить задачу классификации или регрессии.\n",
    "- [x] Выполнить разведочный анализ (**EDA**). При необходимости выполнить полезные преобразования данных.\n",
    "- [x] Самостоятельно реализуйте алгоритмы **Bagging** и **AdaBoost**, которые позволят обучить ансамбли каких-то простых моделей, например деревьев принятия решений.\n",
    "- [x] Обучите ансамбли для каких-то простых моделей, используя свои две реализации, а также реализации из **sklearn** (**Bagging**, **Random Forest**, **AdaBoost**, **Gradient Tree Boosting**, **Histogram-Based Gradient Boosting**).\n",
    "- [x] При обучении использовать **подбор гиперпараметров**, **кросс-валидацию**.\n",
    "- [x] Сравнить качество моделей: замерить скорость обучения, вычислить различные метрики качества, построить матрицы ошибок.\n",
    "- [x] * (**+2 балла**) Также добавить в сравнение модели из библиотек **XGBoost**, **LightGBM** и **CatBoost**.\n",
    "- [x] * (**+3 балла**) Для подбора гиперпараметров использовать фреймворк **Optuna**."
   ]
  },
  {
   "cell_type": "code",
   "execution_count": 147,
   "metadata": {},
   "outputs": [],
   "source": [
    "import matplotlib.pyplot as plt\n",
    "import numpy as np\n",
    "import pandas as pd\n",
    "import seaborn as sns\n",
    "import ydata_profiling as yp\n",
    "%matplotlib inline"
   ]
  },
  {
   "cell_type": "markdown",
   "metadata": {},
   "source": [
    "# Датасет\n",
    "\n",
    "Используемый датасет [Churn modelling](https://www.kaggle.com/datasets/shrutimechlearn/churn-modelling)\n",
    "\n",
    "Этот набор данных содержит сведения о клиентах банка. Целевая переменная является бинарной и отражает тот факт, покинул ли клиент банк (закрыл свой счет) или он продолжает оставаться клиентом.\n",
    "\n",
    "Нецелевые аттрибуты:\n",
    "1. CustomerId - идентификатор клиента\n",
    "2. Surname - фамилия\n",
    "3. CreditScore - кредитный рейтинг\n",
    "4. Geography - страна проживания\n",
    "5. Genger - пол\n",
    "6. Age - возраст\n",
    "7. Tenure - сколько лет является клиентом банка\n",
    "8. Balance - сколько денег на счету\n",
    "9. NumOfProducts - количество продуктов банка, которыми клиент пользуется\n",
    "10. HasCrCard - количество кредитных карт\n",
    "11. IsActiveMember - бинарная переменная, определяющая был ли клиент активным перед уходом из компании\n",
    "12. EstimatedSalary - приблизительная зарплата\n",
    "\n",
    "Целевой аттрибут:\n",
    "1. Exited - бинарная переменная, определяющая, закрыл ли клиент аккаунт"
   ]
  },
  {
   "cell_type": "code",
   "execution_count": 148,
   "metadata": {},
   "outputs": [],
   "source": [
    "df = pd.read_csv('Churn_Modelling.csv')"
   ]
  },
  {
   "cell_type": "markdown",
   "metadata": {},
   "source": [
    "# EDA\n",
    "\n",
    "Сразу удалим из набора данных такие аттрибуты как номер строки и идентификатор клиента, поскольку они не имеют предсказательной силы."
   ]
  },
  {
   "cell_type": "code",
   "execution_count": 149,
   "metadata": {},
   "outputs": [],
   "source": [
    "df.drop(columns=['RowNumber', 'CustomerId', 'Surname'], inplace=True)"
   ]
  },
  {
   "cell_type": "code",
   "execution_count": 150,
   "metadata": {},
   "outputs": [
    {
     "data": {
      "text/html": [
       "<div>\n",
       "<style scoped>\n",
       "    .dataframe tbody tr th:only-of-type {\n",
       "        vertical-align: middle;\n",
       "    }\n",
       "\n",
       "    .dataframe tbody tr th {\n",
       "        vertical-align: top;\n",
       "    }\n",
       "\n",
       "    .dataframe thead th {\n",
       "        text-align: right;\n",
       "    }\n",
       "</style>\n",
       "<table border=\"1\" class=\"dataframe\">\n",
       "  <thead>\n",
       "    <tr style=\"text-align: right;\">\n",
       "      <th></th>\n",
       "      <th>CreditScore</th>\n",
       "      <th>Geography</th>\n",
       "      <th>Gender</th>\n",
       "      <th>Age</th>\n",
       "      <th>Tenure</th>\n",
       "      <th>Balance</th>\n",
       "      <th>NumOfProducts</th>\n",
       "      <th>HasCrCard</th>\n",
       "      <th>IsActiveMember</th>\n",
       "      <th>EstimatedSalary</th>\n",
       "      <th>Exited</th>\n",
       "    </tr>\n",
       "  </thead>\n",
       "  <tbody>\n",
       "    <tr>\n",
       "      <th>0</th>\n",
       "      <td>619</td>\n",
       "      <td>France</td>\n",
       "      <td>Female</td>\n",
       "      <td>42</td>\n",
       "      <td>2</td>\n",
       "      <td>0.00</td>\n",
       "      <td>1</td>\n",
       "      <td>1</td>\n",
       "      <td>1</td>\n",
       "      <td>101348.88</td>\n",
       "      <td>1</td>\n",
       "    </tr>\n",
       "    <tr>\n",
       "      <th>1</th>\n",
       "      <td>608</td>\n",
       "      <td>Spain</td>\n",
       "      <td>Female</td>\n",
       "      <td>41</td>\n",
       "      <td>1</td>\n",
       "      <td>83807.86</td>\n",
       "      <td>1</td>\n",
       "      <td>0</td>\n",
       "      <td>1</td>\n",
       "      <td>112542.58</td>\n",
       "      <td>0</td>\n",
       "    </tr>\n",
       "    <tr>\n",
       "      <th>2</th>\n",
       "      <td>502</td>\n",
       "      <td>France</td>\n",
       "      <td>Female</td>\n",
       "      <td>42</td>\n",
       "      <td>8</td>\n",
       "      <td>159660.80</td>\n",
       "      <td>3</td>\n",
       "      <td>1</td>\n",
       "      <td>0</td>\n",
       "      <td>113931.57</td>\n",
       "      <td>1</td>\n",
       "    </tr>\n",
       "    <tr>\n",
       "      <th>3</th>\n",
       "      <td>699</td>\n",
       "      <td>France</td>\n",
       "      <td>Female</td>\n",
       "      <td>39</td>\n",
       "      <td>1</td>\n",
       "      <td>0.00</td>\n",
       "      <td>2</td>\n",
       "      <td>0</td>\n",
       "      <td>0</td>\n",
       "      <td>93826.63</td>\n",
       "      <td>0</td>\n",
       "    </tr>\n",
       "    <tr>\n",
       "      <th>4</th>\n",
       "      <td>850</td>\n",
       "      <td>Spain</td>\n",
       "      <td>Female</td>\n",
       "      <td>43</td>\n",
       "      <td>2</td>\n",
       "      <td>125510.82</td>\n",
       "      <td>1</td>\n",
       "      <td>1</td>\n",
       "      <td>1</td>\n",
       "      <td>79084.10</td>\n",
       "      <td>0</td>\n",
       "    </tr>\n",
       "  </tbody>\n",
       "</table>\n",
       "</div>"
      ],
      "text/plain": [
       "   CreditScore Geography  Gender  Age  Tenure    Balance  NumOfProducts  \\\n",
       "0          619    France  Female   42       2       0.00              1   \n",
       "1          608     Spain  Female   41       1   83807.86              1   \n",
       "2          502    France  Female   42       8  159660.80              3   \n",
       "3          699    France  Female   39       1       0.00              2   \n",
       "4          850     Spain  Female   43       2  125510.82              1   \n",
       "\n",
       "   HasCrCard  IsActiveMember  EstimatedSalary  Exited  \n",
       "0          1               1        101348.88       1  \n",
       "1          0               1        112542.58       0  \n",
       "2          1               0        113931.57       1  \n",
       "3          0               0         93826.63       0  \n",
       "4          1               1         79084.10       0  "
      ]
     },
     "execution_count": 150,
     "metadata": {},
     "output_type": "execute_result"
    }
   ],
   "source": [
    "df.head()"
   ]
  },
  {
   "cell_type": "code",
   "execution_count": 151,
   "metadata": {},
   "outputs": [
    {
     "name": "stdout",
     "output_type": "stream",
     "text": [
      "<class 'pandas.core.frame.DataFrame'>\n",
      "RangeIndex: 10000 entries, 0 to 9999\n",
      "Data columns (total 11 columns):\n",
      " #   Column           Non-Null Count  Dtype  \n",
      "---  ------           --------------  -----  \n",
      " 0   CreditScore      10000 non-null  int64  \n",
      " 1   Geography        10000 non-null  object \n",
      " 2   Gender           10000 non-null  object \n",
      " 3   Age              10000 non-null  int64  \n",
      " 4   Tenure           10000 non-null  int64  \n",
      " 5   Balance          10000 non-null  float64\n",
      " 6   NumOfProducts    10000 non-null  int64  \n",
      " 7   HasCrCard        10000 non-null  int64  \n",
      " 8   IsActiveMember   10000 non-null  int64  \n",
      " 9   EstimatedSalary  10000 non-null  float64\n",
      " 10  Exited           10000 non-null  int64  \n",
      "dtypes: float64(2), int64(7), object(2)\n",
      "memory usage: 859.5+ KB\n"
     ]
    }
   ],
   "source": [
    "df.info()"
   ]
  },
  {
   "cell_type": "markdown",
   "metadata": {},
   "source": [
    "Проверим, есть ли null значения"
   ]
  },
  {
   "cell_type": "code",
   "execution_count": 152,
   "metadata": {},
   "outputs": [
    {
     "data": {
      "text/plain": [
       "False"
      ]
     },
     "execution_count": 152,
     "metadata": {},
     "output_type": "execute_result"
    }
   ],
   "source": [
    "df.isnull().any().any()"
   ]
  },
  {
   "cell_type": "code",
   "execution_count": 153,
   "metadata": {},
   "outputs": [
    {
     "data": {
      "text/plain": [
       "CreditScore         460\n",
       "Geography             3\n",
       "Gender                2\n",
       "Age                  70\n",
       "Tenure               11\n",
       "Balance            6382\n",
       "NumOfProducts         4\n",
       "HasCrCard             2\n",
       "IsActiveMember        2\n",
       "EstimatedSalary    9999\n",
       "Exited                2\n",
       "dtype: int64"
      ]
     },
     "execution_count": 153,
     "metadata": {},
     "output_type": "execute_result"
    }
   ],
   "source": [
    "df.nunique()"
   ]
  },
  {
   "cell_type": "markdown",
   "metadata": {},
   "source": [
    "Рассмотрим данные по нецелевым аттрибутам при разных значениях целевого"
   ]
  },
  {
   "cell_type": "code",
   "execution_count": 154,
   "metadata": {},
   "outputs": [
    {
     "data": {
      "text/html": [
       "<style type=\"text/css\">\n",
       "</style>\n",
       "<table id=\"T_45d94_\">\n",
       "  <thead>\n",
       "    <tr>\n",
       "      <th class=\"blank level0\" >&nbsp;</th>\n",
       "      <th class=\"col_heading level0 col0\" >count</th>\n",
       "      <th class=\"col_heading level0 col1\" >mean</th>\n",
       "      <th class=\"col_heading level0 col2\" >std</th>\n",
       "      <th class=\"col_heading level0 col3\" >min</th>\n",
       "      <th class=\"col_heading level0 col4\" >25%</th>\n",
       "      <th class=\"col_heading level0 col5\" >50%</th>\n",
       "      <th class=\"col_heading level0 col6\" >75%</th>\n",
       "      <th class=\"col_heading level0 col7\" >max</th>\n",
       "    </tr>\n",
       "  </thead>\n",
       "  <tbody>\n",
       "    <tr>\n",
       "      <th id=\"T_45d94_level0_row0\" class=\"row_heading level0 row0\" >CreditScore</th>\n",
       "      <td id=\"T_45d94_row0_col0\" class=\"data row0 col0\" >7963.00</td>\n",
       "      <td id=\"T_45d94_row0_col1\" class=\"data row0 col1\" >651.85</td>\n",
       "      <td id=\"T_45d94_row0_col2\" class=\"data row0 col2\" >95.65</td>\n",
       "      <td id=\"T_45d94_row0_col3\" class=\"data row0 col3\" >405.00</td>\n",
       "      <td id=\"T_45d94_row0_col4\" class=\"data row0 col4\" >585.00</td>\n",
       "      <td id=\"T_45d94_row0_col5\" class=\"data row0 col5\" >653.00</td>\n",
       "      <td id=\"T_45d94_row0_col6\" class=\"data row0 col6\" >718.00</td>\n",
       "      <td id=\"T_45d94_row0_col7\" class=\"data row0 col7\" >850.00</td>\n",
       "    </tr>\n",
       "    <tr>\n",
       "      <th id=\"T_45d94_level0_row1\" class=\"row_heading level0 row1\" >Age</th>\n",
       "      <td id=\"T_45d94_row1_col0\" class=\"data row1 col0\" >7963.00</td>\n",
       "      <td id=\"T_45d94_row1_col1\" class=\"data row1 col1\" >37.41</td>\n",
       "      <td id=\"T_45d94_row1_col2\" class=\"data row1 col2\" >10.13</td>\n",
       "      <td id=\"T_45d94_row1_col3\" class=\"data row1 col3\" >18.00</td>\n",
       "      <td id=\"T_45d94_row1_col4\" class=\"data row1 col4\" >31.00</td>\n",
       "      <td id=\"T_45d94_row1_col5\" class=\"data row1 col5\" >36.00</td>\n",
       "      <td id=\"T_45d94_row1_col6\" class=\"data row1 col6\" >41.00</td>\n",
       "      <td id=\"T_45d94_row1_col7\" class=\"data row1 col7\" >92.00</td>\n",
       "    </tr>\n",
       "    <tr>\n",
       "      <th id=\"T_45d94_level0_row2\" class=\"row_heading level0 row2\" >Tenure</th>\n",
       "      <td id=\"T_45d94_row2_col0\" class=\"data row2 col0\" >7963.00</td>\n",
       "      <td id=\"T_45d94_row2_col1\" class=\"data row2 col1\" >5.03</td>\n",
       "      <td id=\"T_45d94_row2_col2\" class=\"data row2 col2\" >2.88</td>\n",
       "      <td id=\"T_45d94_row2_col3\" class=\"data row2 col3\" >0.00</td>\n",
       "      <td id=\"T_45d94_row2_col4\" class=\"data row2 col4\" >3.00</td>\n",
       "      <td id=\"T_45d94_row2_col5\" class=\"data row2 col5\" >5.00</td>\n",
       "      <td id=\"T_45d94_row2_col6\" class=\"data row2 col6\" >7.00</td>\n",
       "      <td id=\"T_45d94_row2_col7\" class=\"data row2 col7\" >10.00</td>\n",
       "    </tr>\n",
       "    <tr>\n",
       "      <th id=\"T_45d94_level0_row3\" class=\"row_heading level0 row3\" >Balance</th>\n",
       "      <td id=\"T_45d94_row3_col0\" class=\"data row3 col0\" >7963.00</td>\n",
       "      <td id=\"T_45d94_row3_col1\" class=\"data row3 col1\" >72745.30</td>\n",
       "      <td id=\"T_45d94_row3_col2\" class=\"data row3 col2\" >62848.04</td>\n",
       "      <td id=\"T_45d94_row3_col3\" class=\"data row3 col3\" >0.00</td>\n",
       "      <td id=\"T_45d94_row3_col4\" class=\"data row3 col4\" >0.00</td>\n",
       "      <td id=\"T_45d94_row3_col5\" class=\"data row3 col5\" >92072.68</td>\n",
       "      <td id=\"T_45d94_row3_col6\" class=\"data row3 col6\" >126410.28</td>\n",
       "      <td id=\"T_45d94_row3_col7\" class=\"data row3 col7\" >221532.80</td>\n",
       "    </tr>\n",
       "    <tr>\n",
       "      <th id=\"T_45d94_level0_row4\" class=\"row_heading level0 row4\" >NumOfProducts</th>\n",
       "      <td id=\"T_45d94_row4_col0\" class=\"data row4 col0\" >7963.00</td>\n",
       "      <td id=\"T_45d94_row4_col1\" class=\"data row4 col1\" >1.54</td>\n",
       "      <td id=\"T_45d94_row4_col2\" class=\"data row4 col2\" >0.51</td>\n",
       "      <td id=\"T_45d94_row4_col3\" class=\"data row4 col3\" >1.00</td>\n",
       "      <td id=\"T_45d94_row4_col4\" class=\"data row4 col4\" >1.00</td>\n",
       "      <td id=\"T_45d94_row4_col5\" class=\"data row4 col5\" >2.00</td>\n",
       "      <td id=\"T_45d94_row4_col6\" class=\"data row4 col6\" >2.00</td>\n",
       "      <td id=\"T_45d94_row4_col7\" class=\"data row4 col7\" >3.00</td>\n",
       "    </tr>\n",
       "    <tr>\n",
       "      <th id=\"T_45d94_level0_row5\" class=\"row_heading level0 row5\" >HasCrCard</th>\n",
       "      <td id=\"T_45d94_row5_col0\" class=\"data row5 col0\" >7963.00</td>\n",
       "      <td id=\"T_45d94_row5_col1\" class=\"data row5 col1\" >0.71</td>\n",
       "      <td id=\"T_45d94_row5_col2\" class=\"data row5 col2\" >0.46</td>\n",
       "      <td id=\"T_45d94_row5_col3\" class=\"data row5 col3\" >0.00</td>\n",
       "      <td id=\"T_45d94_row5_col4\" class=\"data row5 col4\" >0.00</td>\n",
       "      <td id=\"T_45d94_row5_col5\" class=\"data row5 col5\" >1.00</td>\n",
       "      <td id=\"T_45d94_row5_col6\" class=\"data row5 col6\" >1.00</td>\n",
       "      <td id=\"T_45d94_row5_col7\" class=\"data row5 col7\" >1.00</td>\n",
       "    </tr>\n",
       "    <tr>\n",
       "      <th id=\"T_45d94_level0_row6\" class=\"row_heading level0 row6\" >IsActiveMember</th>\n",
       "      <td id=\"T_45d94_row6_col0\" class=\"data row6 col0\" >7963.00</td>\n",
       "      <td id=\"T_45d94_row6_col1\" class=\"data row6 col1\" >0.55</td>\n",
       "      <td id=\"T_45d94_row6_col2\" class=\"data row6 col2\" >0.50</td>\n",
       "      <td id=\"T_45d94_row6_col3\" class=\"data row6 col3\" >0.00</td>\n",
       "      <td id=\"T_45d94_row6_col4\" class=\"data row6 col4\" >0.00</td>\n",
       "      <td id=\"T_45d94_row6_col5\" class=\"data row6 col5\" >1.00</td>\n",
       "      <td id=\"T_45d94_row6_col6\" class=\"data row6 col6\" >1.00</td>\n",
       "      <td id=\"T_45d94_row6_col7\" class=\"data row6 col7\" >1.00</td>\n",
       "    </tr>\n",
       "    <tr>\n",
       "      <th id=\"T_45d94_level0_row7\" class=\"row_heading level0 row7\" >EstimatedSalary</th>\n",
       "      <td id=\"T_45d94_row7_col0\" class=\"data row7 col0\" >7963.00</td>\n",
       "      <td id=\"T_45d94_row7_col1\" class=\"data row7 col1\" >99738.39</td>\n",
       "      <td id=\"T_45d94_row7_col2\" class=\"data row7 col2\" >57405.59</td>\n",
       "      <td id=\"T_45d94_row7_col3\" class=\"data row7 col3\" >90.07</td>\n",
       "      <td id=\"T_45d94_row7_col4\" class=\"data row7 col4\" >50783.49</td>\n",
       "      <td id=\"T_45d94_row7_col5\" class=\"data row7 col5\" >99645.04</td>\n",
       "      <td id=\"T_45d94_row7_col6\" class=\"data row7 col6\" >148609.96</td>\n",
       "      <td id=\"T_45d94_row7_col7\" class=\"data row7 col7\" >199992.48</td>\n",
       "    </tr>\n",
       "    <tr>\n",
       "      <th id=\"T_45d94_level0_row8\" class=\"row_heading level0 row8\" >Exited</th>\n",
       "      <td id=\"T_45d94_row8_col0\" class=\"data row8 col0\" >7963.00</td>\n",
       "      <td id=\"T_45d94_row8_col1\" class=\"data row8 col1\" >0.00</td>\n",
       "      <td id=\"T_45d94_row8_col2\" class=\"data row8 col2\" >0.00</td>\n",
       "      <td id=\"T_45d94_row8_col3\" class=\"data row8 col3\" >0.00</td>\n",
       "      <td id=\"T_45d94_row8_col4\" class=\"data row8 col4\" >0.00</td>\n",
       "      <td id=\"T_45d94_row8_col5\" class=\"data row8 col5\" >0.00</td>\n",
       "      <td id=\"T_45d94_row8_col6\" class=\"data row8 col6\" >0.00</td>\n",
       "      <td id=\"T_45d94_row8_col7\" class=\"data row8 col7\" >0.00</td>\n",
       "    </tr>\n",
       "  </tbody>\n",
       "</table>\n"
      ],
      "text/plain": [
       "<pandas.io.formats.style.Styler at 0x7f6b1689d280>"
      ]
     },
     "execution_count": 154,
     "metadata": {},
     "output_type": "execute_result"
    }
   ],
   "source": [
    "df[df['Exited'] == False].describe().T.style.background_gradient(subset=[]).format('{:.2f}')"
   ]
  },
  {
   "cell_type": "code",
   "execution_count": 155,
   "metadata": {},
   "outputs": [
    {
     "data": {
      "text/html": [
       "<style type=\"text/css\">\n",
       "</style>\n",
       "<table id=\"T_50a26_\">\n",
       "  <thead>\n",
       "    <tr>\n",
       "      <th class=\"blank level0\" >&nbsp;</th>\n",
       "      <th class=\"col_heading level0 col0\" >count</th>\n",
       "      <th class=\"col_heading level0 col1\" >mean</th>\n",
       "      <th class=\"col_heading level0 col2\" >std</th>\n",
       "      <th class=\"col_heading level0 col3\" >min</th>\n",
       "      <th class=\"col_heading level0 col4\" >25%</th>\n",
       "      <th class=\"col_heading level0 col5\" >50%</th>\n",
       "      <th class=\"col_heading level0 col6\" >75%</th>\n",
       "      <th class=\"col_heading level0 col7\" >max</th>\n",
       "    </tr>\n",
       "  </thead>\n",
       "  <tbody>\n",
       "    <tr>\n",
       "      <th id=\"T_50a26_level0_row0\" class=\"row_heading level0 row0\" >CreditScore</th>\n",
       "      <td id=\"T_50a26_row0_col0\" class=\"data row0 col0\" >2037.00</td>\n",
       "      <td id=\"T_50a26_row0_col1\" class=\"data row0 col1\" >645.35</td>\n",
       "      <td id=\"T_50a26_row0_col2\" class=\"data row0 col2\" >100.32</td>\n",
       "      <td id=\"T_50a26_row0_col3\" class=\"data row0 col3\" >350.00</td>\n",
       "      <td id=\"T_50a26_row0_col4\" class=\"data row0 col4\" >578.00</td>\n",
       "      <td id=\"T_50a26_row0_col5\" class=\"data row0 col5\" >646.00</td>\n",
       "      <td id=\"T_50a26_row0_col6\" class=\"data row0 col6\" >716.00</td>\n",
       "      <td id=\"T_50a26_row0_col7\" class=\"data row0 col7\" >850.00</td>\n",
       "    </tr>\n",
       "    <tr>\n",
       "      <th id=\"T_50a26_level0_row1\" class=\"row_heading level0 row1\" >Age</th>\n",
       "      <td id=\"T_50a26_row1_col0\" class=\"data row1 col0\" >2037.00</td>\n",
       "      <td id=\"T_50a26_row1_col1\" class=\"data row1 col1\" >44.84</td>\n",
       "      <td id=\"T_50a26_row1_col2\" class=\"data row1 col2\" >9.76</td>\n",
       "      <td id=\"T_50a26_row1_col3\" class=\"data row1 col3\" >18.00</td>\n",
       "      <td id=\"T_50a26_row1_col4\" class=\"data row1 col4\" >38.00</td>\n",
       "      <td id=\"T_50a26_row1_col5\" class=\"data row1 col5\" >45.00</td>\n",
       "      <td id=\"T_50a26_row1_col6\" class=\"data row1 col6\" >51.00</td>\n",
       "      <td id=\"T_50a26_row1_col7\" class=\"data row1 col7\" >84.00</td>\n",
       "    </tr>\n",
       "    <tr>\n",
       "      <th id=\"T_50a26_level0_row2\" class=\"row_heading level0 row2\" >Tenure</th>\n",
       "      <td id=\"T_50a26_row2_col0\" class=\"data row2 col0\" >2037.00</td>\n",
       "      <td id=\"T_50a26_row2_col1\" class=\"data row2 col1\" >4.93</td>\n",
       "      <td id=\"T_50a26_row2_col2\" class=\"data row2 col2\" >2.94</td>\n",
       "      <td id=\"T_50a26_row2_col3\" class=\"data row2 col3\" >0.00</td>\n",
       "      <td id=\"T_50a26_row2_col4\" class=\"data row2 col4\" >2.00</td>\n",
       "      <td id=\"T_50a26_row2_col5\" class=\"data row2 col5\" >5.00</td>\n",
       "      <td id=\"T_50a26_row2_col6\" class=\"data row2 col6\" >8.00</td>\n",
       "      <td id=\"T_50a26_row2_col7\" class=\"data row2 col7\" >10.00</td>\n",
       "    </tr>\n",
       "    <tr>\n",
       "      <th id=\"T_50a26_level0_row3\" class=\"row_heading level0 row3\" >Balance</th>\n",
       "      <td id=\"T_50a26_row3_col0\" class=\"data row3 col0\" >2037.00</td>\n",
       "      <td id=\"T_50a26_row3_col1\" class=\"data row3 col1\" >91108.54</td>\n",
       "      <td id=\"T_50a26_row3_col2\" class=\"data row3 col2\" >58360.79</td>\n",
       "      <td id=\"T_50a26_row3_col3\" class=\"data row3 col3\" >0.00</td>\n",
       "      <td id=\"T_50a26_row3_col4\" class=\"data row3 col4\" >38340.02</td>\n",
       "      <td id=\"T_50a26_row3_col5\" class=\"data row3 col5\" >109349.29</td>\n",
       "      <td id=\"T_50a26_row3_col6\" class=\"data row3 col6\" >131433.33</td>\n",
       "      <td id=\"T_50a26_row3_col7\" class=\"data row3 col7\" >250898.09</td>\n",
       "    </tr>\n",
       "    <tr>\n",
       "      <th id=\"T_50a26_level0_row4\" class=\"row_heading level0 row4\" >NumOfProducts</th>\n",
       "      <td id=\"T_50a26_row4_col0\" class=\"data row4 col0\" >2037.00</td>\n",
       "      <td id=\"T_50a26_row4_col1\" class=\"data row4 col1\" >1.48</td>\n",
       "      <td id=\"T_50a26_row4_col2\" class=\"data row4 col2\" >0.80</td>\n",
       "      <td id=\"T_50a26_row4_col3\" class=\"data row4 col3\" >1.00</td>\n",
       "      <td id=\"T_50a26_row4_col4\" class=\"data row4 col4\" >1.00</td>\n",
       "      <td id=\"T_50a26_row4_col5\" class=\"data row4 col5\" >1.00</td>\n",
       "      <td id=\"T_50a26_row4_col6\" class=\"data row4 col6\" >2.00</td>\n",
       "      <td id=\"T_50a26_row4_col7\" class=\"data row4 col7\" >4.00</td>\n",
       "    </tr>\n",
       "    <tr>\n",
       "      <th id=\"T_50a26_level0_row5\" class=\"row_heading level0 row5\" >HasCrCard</th>\n",
       "      <td id=\"T_50a26_row5_col0\" class=\"data row5 col0\" >2037.00</td>\n",
       "      <td id=\"T_50a26_row5_col1\" class=\"data row5 col1\" >0.70</td>\n",
       "      <td id=\"T_50a26_row5_col2\" class=\"data row5 col2\" >0.46</td>\n",
       "      <td id=\"T_50a26_row5_col3\" class=\"data row5 col3\" >0.00</td>\n",
       "      <td id=\"T_50a26_row5_col4\" class=\"data row5 col4\" >0.00</td>\n",
       "      <td id=\"T_50a26_row5_col5\" class=\"data row5 col5\" >1.00</td>\n",
       "      <td id=\"T_50a26_row5_col6\" class=\"data row5 col6\" >1.00</td>\n",
       "      <td id=\"T_50a26_row5_col7\" class=\"data row5 col7\" >1.00</td>\n",
       "    </tr>\n",
       "    <tr>\n",
       "      <th id=\"T_50a26_level0_row6\" class=\"row_heading level0 row6\" >IsActiveMember</th>\n",
       "      <td id=\"T_50a26_row6_col0\" class=\"data row6 col0\" >2037.00</td>\n",
       "      <td id=\"T_50a26_row6_col1\" class=\"data row6 col1\" >0.36</td>\n",
       "      <td id=\"T_50a26_row6_col2\" class=\"data row6 col2\" >0.48</td>\n",
       "      <td id=\"T_50a26_row6_col3\" class=\"data row6 col3\" >0.00</td>\n",
       "      <td id=\"T_50a26_row6_col4\" class=\"data row6 col4\" >0.00</td>\n",
       "      <td id=\"T_50a26_row6_col5\" class=\"data row6 col5\" >0.00</td>\n",
       "      <td id=\"T_50a26_row6_col6\" class=\"data row6 col6\" >1.00</td>\n",
       "      <td id=\"T_50a26_row6_col7\" class=\"data row6 col7\" >1.00</td>\n",
       "    </tr>\n",
       "    <tr>\n",
       "      <th id=\"T_50a26_level0_row7\" class=\"row_heading level0 row7\" >EstimatedSalary</th>\n",
       "      <td id=\"T_50a26_row7_col0\" class=\"data row7 col0\" >2037.00</td>\n",
       "      <td id=\"T_50a26_row7_col1\" class=\"data row7 col1\" >101465.68</td>\n",
       "      <td id=\"T_50a26_row7_col2\" class=\"data row7 col2\" >57912.42</td>\n",
       "      <td id=\"T_50a26_row7_col3\" class=\"data row7 col3\" >11.58</td>\n",
       "      <td id=\"T_50a26_row7_col4\" class=\"data row7 col4\" >51907.72</td>\n",
       "      <td id=\"T_50a26_row7_col5\" class=\"data row7 col5\" >102460.84</td>\n",
       "      <td id=\"T_50a26_row7_col6\" class=\"data row7 col6\" >152422.91</td>\n",
       "      <td id=\"T_50a26_row7_col7\" class=\"data row7 col7\" >199808.10</td>\n",
       "    </tr>\n",
       "    <tr>\n",
       "      <th id=\"T_50a26_level0_row8\" class=\"row_heading level0 row8\" >Exited</th>\n",
       "      <td id=\"T_50a26_row8_col0\" class=\"data row8 col0\" >2037.00</td>\n",
       "      <td id=\"T_50a26_row8_col1\" class=\"data row8 col1\" >1.00</td>\n",
       "      <td id=\"T_50a26_row8_col2\" class=\"data row8 col2\" >0.00</td>\n",
       "      <td id=\"T_50a26_row8_col3\" class=\"data row8 col3\" >1.00</td>\n",
       "      <td id=\"T_50a26_row8_col4\" class=\"data row8 col4\" >1.00</td>\n",
       "      <td id=\"T_50a26_row8_col5\" class=\"data row8 col5\" >1.00</td>\n",
       "      <td id=\"T_50a26_row8_col6\" class=\"data row8 col6\" >1.00</td>\n",
       "      <td id=\"T_50a26_row8_col7\" class=\"data row8 col7\" >1.00</td>\n",
       "    </tr>\n",
       "  </tbody>\n",
       "</table>\n"
      ],
      "text/plain": [
       "<pandas.io.formats.style.Styler at 0x7f6b15ae90a0>"
      ]
     },
     "execution_count": 155,
     "metadata": {},
     "output_type": "execute_result"
    }
   ],
   "source": [
    "df[df['Exited'] == True].describe().T.style.background_gradient(subset=[]).format('{:.2f}')"
   ]
  },
  {
   "cell_type": "markdown",
   "metadata": {},
   "source": [
    "Можно заметить, что у людей, которые покинули банк средний возраст выше на 7.43 года, несмотря на то, что длительность пользования банком практически не отличается"
   ]
  },
  {
   "cell_type": "markdown",
   "metadata": {},
   "source": [
    "Построим распределение аттрибутов"
   ]
  },
  {
   "cell_type": "code",
   "execution_count": 156,
   "metadata": {},
   "outputs": [
    {
     "data": {
      "image/png": "[encoded data removed]",
      "text/plain": [
       "<Figure size 720x720 with 9 Axes>"
      ]
     },
     "metadata": {
      "needs_background": "light"
     },
     "output_type": "display_data"
    }
   ],
   "source": [
    "df.hist(figsize=(10, 10));"
   ]
  },
  {
   "cell_type": "markdown",
   "metadata": {},
   "source": [
    "1. Можно заметить, что баланс почти у половины людей пустой баланс, у второй половины распределение плавное\n",
    "\n",
    "2. Подавляющее большинство клиентов пользуется одним либо двумя продуктами банка, меньшинство -- тремя и четыремя\n",
    "\n",
    "3. Четверть людей не имеет кредиток\n",
    "\n",
    "4. Количество активных и неактивных пользователей на момент ухода практически совпадает\n",
    "\n",
    "5. Всего из банка ушли около 20% клиентов"
   ]
  },
  {
   "cell_type": "markdown",
   "metadata": {},
   "source": [
    "Построим матрицу корреляции аттрибутов"
   ]
  },
  {
   "cell_type": "code",
   "execution_count": 157,
   "metadata": {},
   "outputs": [
    {
     "data": {
      "image/png": "[encoded data removed]",
      "text/plain": [
       "<Figure size 864x720 with 2 Axes>"
      ]
     },
     "metadata": {
      "needs_background": "light"
     },
     "output_type": "display_data"
    }
   ],
   "source": [
    "plt.figure(figsize=(12, 10))\n",
    "sns.heatmap(df.corr(), annot=True, cmap = sns.cubehelix_palette(8), mask=np.triu(df.corr()))\n",
    "plt.xticks(rotation=45);"
   ]
  },
  {
   "cell_type": "markdown",
   "metadata": {},
   "source": [
    "Как уже отметили раннее, существует слабая положительная корреляция между возрастом клиента и уходом из банка.\n",
    "Также существует слабая отрицательная корреляция между количеством продуктов, которыми клиент пользовался и его балансом счета\n",
    "\n",
    "Остальные корреляции аттрибутов незначительны"
   ]
  },
  {
   "cell_type": "markdown",
   "metadata": {},
   "source": [
    "Посмотрим на влияние категориальных аттрибутов:"
   ]
  },
  {
   "cell_type": "code",
   "execution_count": 158,
   "metadata": {},
   "outputs": [
    {
     "data": {
      "image/png": "[encoded data removed]",
      "text/plain": [
       "<Figure size 432.125x360 with 1 Axes>"
      ]
     },
     "metadata": {
      "needs_background": "light"
     },
     "output_type": "display_data"
    }
   ],
   "source": [
    "sns.catplot(data=df, x='Geography', y='Exited', hue='Gender', kind='bar');"
   ]
  },
  {
   "cell_type": "markdown",
   "metadata": {},
   "source": [
    "В каждой стране женщины чаще мужчин покидали банк. Также в германии ощутимо больший процент и мужчин, и женщин покидает банк по сравнению с Францией и Испанией, где показатели не сильно отличаются"
   ]
  },
  {
   "cell_type": "markdown",
   "metadata": {},
   "source": [
    "Таким образом, можно предположить, что большей показательной силой будут обладать такие аттрибуты как возраст, пол, страна проживания"
   ]
  },
  {
   "cell_type": "markdown",
   "metadata": {},
   "source": [
    "Теперь закодируем категориальные аттрибуты:"
   ]
  },
  {
   "cell_type": "code",
   "execution_count": 159,
   "metadata": {},
   "outputs": [],
   "source": [
    "df = pd.get_dummies(df, columns=['Geography', 'Gender'], drop_first=True)"
   ]
  },
  {
   "cell_type": "code",
   "execution_count": 160,
   "metadata": {},
   "outputs": [
    {
     "data": {
      "text/html": [
       "<div>\n",
       "<style scoped>\n",
       "    .dataframe tbody tr th:only-of-type {\n",
       "        vertical-align: middle;\n",
       "    }\n",
       "\n",
       "    .dataframe tbody tr th {\n",
       "        vertical-align: top;\n",
       "    }\n",
       "\n",
       "    .dataframe thead th {\n",
       "        text-align: right;\n",
       "    }\n",
       "</style>\n",
       "<table border=\"1\" class=\"dataframe\">\n",
       "  <thead>\n",
       "    <tr style=\"text-align: right;\">\n",
       "      <th></th>\n",
       "      <th>CreditScore</th>\n",
       "      <th>Age</th>\n",
       "      <th>Tenure</th>\n",
       "      <th>Balance</th>\n",
       "      <th>NumOfProducts</th>\n",
       "      <th>HasCrCard</th>\n",
       "      <th>IsActiveMember</th>\n",
       "      <th>EstimatedSalary</th>\n",
       "      <th>Exited</th>\n",
       "      <th>Geography_Germany</th>\n",
       "      <th>Geography_Spain</th>\n",
       "      <th>Gender_Male</th>\n",
       "    </tr>\n",
       "  </thead>\n",
       "  <tbody>\n",
       "    <tr>\n",
       "      <th>0</th>\n",
       "      <td>619</td>\n",
       "      <td>42</td>\n",
       "      <td>2</td>\n",
       "      <td>0.00</td>\n",
       "      <td>1</td>\n",
       "      <td>1</td>\n",
       "      <td>1</td>\n",
       "      <td>101348.88</td>\n",
       "      <td>1</td>\n",
       "      <td>0</td>\n",
       "      <td>0</td>\n",
       "      <td>0</td>\n",
       "    </tr>\n",
       "    <tr>\n",
       "      <th>1</th>\n",
       "      <td>608</td>\n",
       "      <td>41</td>\n",
       "      <td>1</td>\n",
       "      <td>83807.86</td>\n",
       "      <td>1</td>\n",
       "      <td>0</td>\n",
       "      <td>1</td>\n",
       "      <td>112542.58</td>\n",
       "      <td>0</td>\n",
       "      <td>0</td>\n",
       "      <td>1</td>\n",
       "      <td>0</td>\n",
       "    </tr>\n",
       "    <tr>\n",
       "      <th>2</th>\n",
       "      <td>502</td>\n",
       "      <td>42</td>\n",
       "      <td>8</td>\n",
       "      <td>159660.80</td>\n",
       "      <td>3</td>\n",
       "      <td>1</td>\n",
       "      <td>0</td>\n",
       "      <td>113931.57</td>\n",
       "      <td>1</td>\n",
       "      <td>0</td>\n",
       "      <td>0</td>\n",
       "      <td>0</td>\n",
       "    </tr>\n",
       "    <tr>\n",
       "      <th>3</th>\n",
       "      <td>699</td>\n",
       "      <td>39</td>\n",
       "      <td>1</td>\n",
       "      <td>0.00</td>\n",
       "      <td>2</td>\n",
       "      <td>0</td>\n",
       "      <td>0</td>\n",
       "      <td>93826.63</td>\n",
       "      <td>0</td>\n",
       "      <td>0</td>\n",
       "      <td>0</td>\n",
       "      <td>0</td>\n",
       "    </tr>\n",
       "    <tr>\n",
       "      <th>4</th>\n",
       "      <td>850</td>\n",
       "      <td>43</td>\n",
       "      <td>2</td>\n",
       "      <td>125510.82</td>\n",
       "      <td>1</td>\n",
       "      <td>1</td>\n",
       "      <td>1</td>\n",
       "      <td>79084.10</td>\n",
       "      <td>0</td>\n",
       "      <td>0</td>\n",
       "      <td>1</td>\n",
       "      <td>0</td>\n",
       "    </tr>\n",
       "  </tbody>\n",
       "</table>\n",
       "</div>"
      ],
      "text/plain": [
       "   CreditScore  Age  Tenure    Balance  NumOfProducts  HasCrCard  \\\n",
       "0          619   42       2       0.00              1          1   \n",
       "1          608   41       1   83807.86              1          0   \n",
       "2          502   42       8  159660.80              3          1   \n",
       "3          699   39       1       0.00              2          0   \n",
       "4          850   43       2  125510.82              1          1   \n",
       "\n",
       "   IsActiveMember  EstimatedSalary  Exited  Geography_Germany  \\\n",
       "0               1        101348.88       1                  0   \n",
       "1               1        112542.58       0                  0   \n",
       "2               0        113931.57       1                  0   \n",
       "3               0         93826.63       0                  0   \n",
       "4               1         79084.10       0                  0   \n",
       "\n",
       "   Geography_Spain  Gender_Male  \n",
       "0                0            0  \n",
       "1                1            0  \n",
       "2                0            0  \n",
       "3                0            0  \n",
       "4                1            0  "
      ]
     },
     "execution_count": 160,
     "metadata": {},
     "output_type": "execute_result"
    }
   ],
   "source": [
    "df.head()"
   ]
  },
  {
   "cell_type": "markdown",
   "metadata": {},
   "source": [
    "# Bagging"
   ]
  },
  {
   "cell_type": "code",
   "execution_count": 472,
   "metadata": {},
   "outputs": [],
   "source": [
    "import numpy as np\n",
    "from typing import Tuple\n",
    "from sklearn.base import BaseEstimator, ClassifierMixin, clone\n",
    "from sklearn.tree import DecisionTreeClassifier\n",
    "from sklearn.utils.validation import check_X_y, check_scalar, check_random_state, check_is_fitted, check_array\n",
    "from sklearn.utils.estimator_checks import check_estimator"
   ]
  },
  {
   "cell_type": "code",
   "execution_count": 564,
   "metadata": {},
   "outputs": [],
   "source": [
    "from collections import Counter\n",
    "\n",
    "def most_common(arr):\n",
    "    values, counts = np.unique(arr, return_counts=True)\n",
    "    return values[np.argmax(counts)]\n",
    "\n",
    "class SimpleBaggingClassifier(BaseEstimator, ClassifierMixin):\n",
    "\n",
    "    def __init__(self, estimator=None, n_estimators=10, *, random_state=None):\n",
    "        self.estimator = estimator\n",
    "        self.n_estimators = n_estimators\n",
    "        self.random_state = random_state\n",
    "\n",
    "    def fit(self, X: npt.ArrayLike, y: npt.ArrayLike) -> \"SimpleBaggingClassifier\":\n",
    "        self.n_estimators = check_scalar(self.n_estimators, \"n_estimators\", int, min_val=1)\n",
    "        self.random_state_ = check_random_state(self.random_state)\n",
    "        X, y = check_X_y(X, y)\n",
    "        \n",
    "        self.estimator_ = self.estimator or DecisionTreeClassifier()\n",
    "        self.classes_ = np.unique(y)\n",
    "\n",
    "        self.estimators_ = []\n",
    "        for _ in range(self.n_estimators):\n",
    "            estimator = clone(self.estimator_)\n",
    "            self._set_random_states(estimator)\n",
    "            X_sample, y_sample = self._bootstrap_resample(X, y)\n",
    "            estimator.fit(X_sample, y_sample)\n",
    "            self.estimators_.append(estimator)\n",
    "\n",
    "        self.n_features_in_ = X.shape[1]\n",
    "\n",
    "        return self\n",
    "\n",
    "    def predict(self, X: npt.ArrayLike) -> npt.NDArray:\n",
    "        check_is_fitted(self)\n",
    "        X = check_array(X)\n",
    "        return np.apply_along_axis(\n",
    "            most_common,\n",
    "            axis=0,\n",
    "            arr=[estimator.predict(X) for estimator in self.estimators_],\n",
    "        )\n",
    "    \n",
    "    def _set_random_states(self, estimator):\n",
    "        random_states = {}\n",
    "        for param_name in estimator.get_params(deep=True):\n",
    "            if param_name == \"random_state\" or param_name.endswith(\"__random_state\"):\n",
    "                random_states[param_name] = self.random_state_\n",
    "        estimator.set_params(**random_states)\n",
    "\n",
    "    def _bootstrap_resample(self, X: npt.NDArray, y: npt.NDArray) -> Tuple[npt.NDArray, npt.NDArray]:\n",
    "        bootstrap_indices = self.random_state_.choice(len(y), size=len(y))\n",
    "        return X[bootstrap_indices], y[bootstrap_indices]\n",
    "\n",
    "\n",
    "check_estimator(SimpleBaggingClassifier())"
   ]
  },
  {
   "cell_type": "markdown",
   "metadata": {},
   "source": [
    "# AdaBoost"
   ]
  },
  {
   "cell_type": "code",
   "execution_count": 565,
   "metadata": {},
   "outputs": [],
   "source": [
    "class SimpleAdaBoostClassifier(BaseEstimator, ClassifierMixin):\n",
    "    def __init__(self, estimator=None, n_estimators=50, *, random_state=None):\n",
    "        self.estimator = estimator\n",
    "        self.n_estimators = n_estimators\n",
    "        self.random_state = random_state\n",
    "\n",
    "    def fit(self, X: npt.ArrayLike, y: npt.ArrayLike) -> \"SimpleAdaBoostClassifier\":\n",
    "        self.n_estimators = check_scalar(self.n_estimators, \"n_estimators\", int, min_val=1)\n",
    "        self.random_state_ = check_random_state(self.random_state)\n",
    "        X, y = check_X_y(X, y)\n",
    "        \n",
    "        self.estimator_ = self.estimator or DecisionTreeClassifier(max_depth=3)\n",
    "        self.classes_ = np.unique(y)\n",
    "\n",
    "        self.estimators_ = []\n",
    "        self.estimator_weights_ = []\n",
    "        sample_weight = np.full(len(y), fill_value=(1 / len(y)))\n",
    "        for _ in range(self.n_estimators):\n",
    "            estimator = clone(self.estimator_)\n",
    "            predicted = estimator.fit(X, y, sample_weight=sample_weight).predict(X)\n",
    "            errors = predicted != y\n",
    "            avg_error = np.sum(sample_weight * errors) / np.sum(sample_weight)\n",
    "            if avg_error == 0:\n",
    "                self.estimators_.append(estimator)\n",
    "                self.estimator_weights_.append(1.0)\n",
    "                break\n",
    "            elif avg_error >= 0.5:\n",
    "                if not self.estimators_:\n",
    "                    self.estimators_.append(estimator)\n",
    "                    self.estimator_weights_.append(1.0)\n",
    "                break\n",
    "                \n",
    "            beta = avg_error / (1 - avg_error)\n",
    "            sample_weight *= np.power(beta, 1 - errors)  \n",
    "            sample_weight /= np.sum(sample_weight)\n",
    "            self.estimators_.append(estimator)\n",
    "            self.estimator_weights_.append(np.log(1 / beta))\n",
    "        self.estimator_weights_ = np.array(self.estimator_weights_)\n",
    "        self.n_features_in_ = X.shape[1]\n",
    "        return self\n",
    "\n",
    "    def predict(self, X: npt.ArrayLike) -> npt.NDArray:\n",
    "        check_is_fitted(self)\n",
    "        X = check_array(X)\n",
    "        predictions = np.array([estimator.predict(X) for estimator in self.estimators_]).T\n",
    "        sorted_prediction_ids = np.argsort(predictions, axis=1)\n",
    "        sorted_weights_cumsum = np.cumsum(self.estimator_weights_[sorted_prediction_ids], axis=1)\n",
    "        more_than_median = sorted_weights_cumsum >= (sorted_weights_cumsum[0][-1] / 2)\n",
    "        median_ids = np.argmax(more_than_median, axis=1)  \n",
    "        median_ids = sorted_prediction_ids[np.arange(len(X)), median_ids]\n",
    "        return predictions[np.arange(len(X)), median_ids]\n",
    "\n",
    "\n",
    "check_estimator(SimpleAdaBoostClassifier())"
   ]
  },
  {
   "cell_type": "markdown",
   "metadata": {},
   "source": [
    "# Optuna"
   ]
  },
  {
   "cell_type": "code",
   "execution_count": 566,
   "metadata": {},
   "outputs": [],
   "source": [
    "import pathlib\n",
    "import warnings\n",
    "\n",
    "import optuna\n",
    "from sklearn.model_selection import KFold, cross_validate\n",
    "\n",
    "optuna.logging.set_verbosity(optuna.logging.WARNING) \n",
    "optuna.logging.set_verbosity(optuna.logging.INFO)\n",
    "\n",
    "warnings.filterwarnings(\"ignore\", category=optuna.exceptions.ExperimentalWarning)\n",
    "\n",
    "RESULTS_PATH = pathlib.Path(\"cv_results.csv\")\n",
    "DATA = df.drop(columns=['Exited'])\n",
    "TARGET = df['Exited']\n",
    "\n",
    "def train_and_save(estimator, params):\n",
    "    study = optuna.create_study(\n",
    "        sampler=optuna.samplers.BruteForceSampler(),\n",
    "        direction=\"maximize\",\n",
    "    )\n",
    "\n",
    "    optuna_model = optuna.integration.OptunaSearchCV(\n",
    "        estimator,\n",
    "        params,\n",
    "        n_jobs=2,\n",
    "        n_trials=None,  \n",
    "        random_state=34,\n",
    "        study=study,\n",
    "    )\n",
    "\n",
    "    cv_results = cross_validate(\n",
    "        optuna_model,\n",
    "        DATA,\n",
    "        TARGET,\n",
    "        cv=KFold(shuffle=True, random_state=42),\n",
    "        scoring=[\"accuracy\", \"precision\", \"recall\", \"f1\"],\n",
    "        n_jobs=3,\n",
    "        return_estimator=True,\n",
    "    )\n",
    "    \n",
    "    for fold_i, estimator_in_fold in enumerate(cv_results[\"estimator\"], start=1):\n",
    "        print(f\"Best params #{fold_i}:\", estimator_in_fold.best_params_)\n",
    "    \n",
    "    cv_results = pd.DataFrame(cv_results)\n",
    "    cv_results['estimator'] = estimator.__class__.__name__\n",
    "    cv_results.to_csv(RESULTS_PATH, mode=\"a\", header=not RESULTS_PATH.exists())"
   ]
  },
  {
   "cell_type": "code",
   "execution_count": 567,
   "metadata": {},
   "outputs": [
    {
     "name": "stderr",
     "output_type": "stream",
     "text": [
      "\u001b[32m[I 2023-03-25 20:06:09,261]\u001b[0m A new study created in memory with name: no-name-3443f628-adbf-441a-b785-5771e9b1390d\u001b[0m\n"
     ]
    },
    {
     "name": "stdout",
     "output_type": "stream",
     "text": [
      "Best params #1: {'n_estimators': 40}\n",
      "Best params #2: {'n_estimators': 40}\n",
      "Best params #3: {'n_estimators': 40}\n",
      "Best params #4: {'n_estimators': 40}\n",
      "Best params #5: {'n_estimators': 40}\n",
      "CPU times: user 82.7 ms, sys: 17.3 ms, total: 100 ms\n",
      "Wall time: 14 s\n"
     ]
    }
   ],
   "source": [
    "%%time\n",
    "\n",
    "train_and_save(\n",
    "    SimpleBaggingClassifier(random_state=0),\n",
    "    params={\n",
    "        \"n_estimators\": optuna.distributions.CategoricalDistribution([5, 20, 40]),\n",
    "    },\n",
    ")"
   ]
  },
  {
   "cell_type": "code",
   "execution_count": 568,
   "metadata": {},
   "outputs": [
    {
     "name": "stderr",
     "output_type": "stream",
     "text": [
      "\u001b[32m[I 2023-03-25 20:06:23,265]\u001b[0m A new study created in memory with name: no-name-14ba53c4-9af5-4a2d-bfb6-e6a27187a57e\u001b[0m\n"
     ]
    },
    {
     "name": "stdout",
     "output_type": "stream",
     "text": [
      "Best params #1: {'n_estimators': 40}\n",
      "Best params #2: {'n_estimators': 40}\n",
      "Best params #3: {'n_estimators': 40}\n",
      "Best params #4: {'n_estimators': 40}\n",
      "Best params #5: {'n_estimators': 40}\n",
      "CPU times: user 68.3 ms, sys: 14.4 ms, total: 82.8 ms\n",
      "Wall time: 9.78 s\n"
     ]
    }
   ],
   "source": [
    "%%time\n",
    "from sklearn.ensemble import BaggingClassifier\n",
    "\n",
    "train_and_save(\n",
    "    BaggingClassifier(random_state=1, n_jobs=2),\n",
    "    params={\n",
    "        \"n_estimators\": optuna.distributions.CategoricalDistribution([5, 20, 40]),\n",
    "    }\n",
    ")"
   ]
  },
  {
   "cell_type": "code",
   "execution_count": 569,
   "metadata": {},
   "outputs": [
    {
     "name": "stderr",
     "output_type": "stream",
     "text": [
      "\u001b[32m[I 2023-03-25 20:06:33,049]\u001b[0m A new study created in memory with name: no-name-e7fae4ec-a61b-4070-98e8-04c886397d9e\u001b[0m\n"
     ]
    },
    {
     "name": "stdout",
     "output_type": "stream",
     "text": [
      "Best params #1: {'n_estimators': 50, 'max_features': None, 'max_leaf_nodes': 100}\n",
      "Best params #2: {'n_estimators': 20, 'max_features': None, 'max_leaf_nodes': 100}\n",
      "Best params #3: {'n_estimators': 50, 'max_features': 'sqrt', 'max_leaf_nodes': None}\n",
      "Best params #4: {'n_estimators': 50, 'max_features': None, 'max_leaf_nodes': 100}\n",
      "Best params #5: {'n_estimators': 50, 'max_features': None, 'max_leaf_nodes': 100}\n",
      "CPU times: user 66.8 ms, sys: 12.5 ms, total: 79.3 ms\n",
      "Wall time: 38.5 s\n"
     ]
    }
   ],
   "source": [
    "%%time\n",
    "from sklearn.ensemble import RandomForestClassifier\n",
    "\n",
    "train_and_save(\n",
    "    RandomForestClassifier(random_state=2, n_jobs=2),\n",
    "    params={\n",
    "        \"n_estimators\": optuna.distributions.CategoricalDistribution([5, 20, 50]),\n",
    "        \"max_features\": optuna.distributions.CategoricalDistribution([2, \"sqrt\", None]),\n",
    "        \"max_leaf_nodes\": optuna.distributions.CategoricalDistribution([10, 100, None]),\n",
    "    },\n",
    ")"
   ]
  },
  {
   "cell_type": "code",
   "execution_count": 570,
   "metadata": {},
   "outputs": [
    {
     "name": "stderr",
     "output_type": "stream",
     "text": [
      "\u001b[32m[I 2023-03-25 20:07:11,544]\u001b[0m A new study created in memory with name: no-name-446ce25a-30bb-428e-a2c2-2852ad5c1870\u001b[0m\n"
     ]
    },
    {
     "name": "stdout",
     "output_type": "stream",
     "text": [
      "Best params #1: {'n_estimators': 20}\n",
      "Best params #2: {'n_estimators': 40}\n",
      "Best params #3: {'n_estimators': 40}\n",
      "Best params #4: {'n_estimators': 40}\n",
      "Best params #5: {'n_estimators': 40}\n",
      "CPU times: user 72.7 ms, sys: 0 ns, total: 72.7 ms\n",
      "Wall time: 5.82 s\n"
     ]
    }
   ],
   "source": [
    "%%time\n",
    "\n",
    "train_and_save(\n",
    "    SimpleAdaBoostClassifier(random_state=3),\n",
    "    params={\n",
    "        \"n_estimators\": optuna.distributions.CategoricalDistribution([5, 20, 40]),\n",
    "    },\n",
    ")"
   ]
  },
  {
   "cell_type": "code",
   "execution_count": 571,
   "metadata": {},
   "outputs": [
    {
     "name": "stderr",
     "output_type": "stream",
     "text": [
      "\u001b[32m[I 2023-03-25 20:07:17,367]\u001b[0m A new study created in memory with name: no-name-9e2e3446-22c4-474c-9af9-2ee5665abd45\u001b[0m\n"
     ]
    },
    {
     "name": "stdout",
     "output_type": "stream",
     "text": [
      "Best params #1: {'learning_rate': 0.3, 'n_estimators': 40}\n",
      "Best params #2: {'learning_rate': 0.3, 'n_estimators': 40}\n",
      "Best params #3: {'learning_rate': 0.3, 'n_estimators': 40}\n",
      "Best params #4: {'learning_rate': 0.3, 'n_estimators': 40}\n",
      "Best params #5: {'learning_rate': 0.3, 'n_estimators': 40}\n",
      "CPU times: user 35.5 ms, sys: 4.65 ms, total: 40.1 ms\n",
      "Wall time: 8.76 s\n"
     ]
    }
   ],
   "source": [
    "%%time\n",
    "from sklearn.ensemble import AdaBoostClassifier\n",
    "\n",
    "train_and_save(\n",
    "    AdaBoostClassifier(random_state=4),\n",
    "    params={\n",
    "        \"learning_rate\": optuna.distributions.CategoricalDistribution([0.03, 0.1, 0.3]),\n",
    "        \"n_estimators\": optuna.distributions.CategoricalDistribution([5, 20, 40]),\n",
    "    },\n",
    ")"
   ]
  },
  {
   "cell_type": "code",
   "execution_count": 572,
   "metadata": {},
   "outputs": [
    {
     "name": "stderr",
     "output_type": "stream",
     "text": [
      "\u001b[32m[I 2023-03-25 20:07:26,134]\u001b[0m A new study created in memory with name: no-name-a68aefaa-3db3-42cd-842f-e32fc8ab25fb\u001b[0m\n"
     ]
    },
    {
     "name": "stdout",
     "output_type": "stream",
     "text": [
      "Best params #1: {'learning_rate': 0.03}\n",
      "Best params #2: {'learning_rate': 0.03}\n",
      "Best params #3: {'learning_rate': 0.03}\n",
      "Best params #4: {'learning_rate': 0.03}\n",
      "Best params #5: {'learning_rate': 0.03}\n",
      "CPU times: user 45.1 ms, sys: 540 µs, total: 45.6 ms\n",
      "Wall time: 12.1 s\n"
     ]
    }
   ],
   "source": [
    "%%time\n",
    "from sklearn.ensemble import GradientBoostingClassifier\n",
    "\n",
    "train_and_save(\n",
    "    GradientBoostingClassifier(random_state=5),\n",
    "    params={\n",
    "        \"learning_rate\": optuna.distributions.CategoricalDistribution([0.03, 0.1, 0.3]),\n",
    "        \"n_estimators\": optuna.distributions.CategoricalDistribution([5, 20, 100]),\n",
    "        \"max_leaf_nodes\": optuna.distributions.CategoricalDistribution([10, 100, None]),\n",
    "    },\n",
    ")"
   ]
  },
  {
   "cell_type": "code",
   "execution_count": 573,
   "metadata": {},
   "outputs": [
    {
     "name": "stderr",
     "output_type": "stream",
     "text": [
      "\u001b[32m[I 2023-03-25 20:07:38,207]\u001b[0m A new study created in memory with name: no-name-59368bec-c15d-4e72-a497-758649dd3723\u001b[0m\n"
     ]
    },
    {
     "name": "stdout",
     "output_type": "stream",
     "text": [
      "Best params #1: {'learning_rate': 0.1, 'max_iter': 100, 'max_leaf_nodes': 15, 'early_stopping': False}\n",
      "Best params #2: {'learning_rate': 0.1, 'max_iter': 500, 'max_leaf_nodes': 3, 'early_stopping': False}\n",
      "Best params #3: {'learning_rate': 0.3, 'max_iter': 300, 'max_leaf_nodes': 3, 'early_stopping': False}\n",
      "Best params #4: {'learning_rate': 0.1, 'max_iter': 100, 'max_leaf_nodes': 15, 'early_stopping': False}\n",
      "Best params #5: {'learning_rate': 0.1, 'max_iter': 500, 'max_leaf_nodes': 3, 'early_stopping': False}\n",
      "CPU times: user 113 ms, sys: 21.2 ms, total: 134 ms\n",
      "Wall time: 30min 40s\n"
     ]
    }
   ],
   "source": [
    "%%time\n",
    "from sklearn.ensemble import HistGradientBoostingClassifier\n",
    "\n",
    "train_and_save(\n",
    "    HistGradientBoostingClassifier(random_state=6),\n",
    "    params={\n",
    "        \"learning_rate\": optuna.distributions.CategoricalDistribution([0.1, 0.2, 0.3]),\n",
    "        \"max_iter\": optuna.distributions.CategoricalDistribution([100, 300, 500]),\n",
    "        \"max_leaf_nodes\": optuna.distributions.CategoricalDistribution([3, 15, 40]),\n",
    "        \"early_stopping\": optuna.distributions.CategoricalDistribution([False, True]),\n",
    "    },\n",
    ")"
   ]
  },
  {
   "cell_type": "code",
   "execution_count": 574,
   "metadata": {},
   "outputs": [
    {
     "name": "stderr",
     "output_type": "stream",
     "text": [
      "\u001b[32m[I 2023-03-25 20:38:18,357]\u001b[0m A new study created in memory with name: no-name-8a0e9a4c-5507-4cb8-bda7-67327680c753\u001b[0m\n"
     ]
    },
    {
     "name": "stdout",
     "output_type": "stream",
     "text": [
      "Best params #1: {'tree_method': 'hist', 'learning_rate': 0.3, 'n_estimators': 100, 'max_leaves': 3}\n",
      "Best params #2: {'tree_method': 'exact', 'learning_rate': 0.1, 'n_estimators': 100, 'max_leaves': 40}\n",
      "Best params #3: {'tree_method': 'hist', 'learning_rate': 0.3, 'n_estimators': 100, 'max_leaves': 3}\n",
      "Best params #4: {'tree_method': 'hist', 'learning_rate': 0.1, 'n_estimators': 100, 'max_leaves': 15}\n",
      "Best params #5: {'tree_method': 'approx', 'learning_rate': 0.3, 'n_estimators': 100, 'max_leaves': 3}\n",
      "CPU times: user 1.23 s, sys: 0 ns, total: 1.23 s\n",
      "Wall time: 1min 34s\n"
     ]
    }
   ],
   "source": [
    "%%time\n",
    "from xgboost import XGBClassifier\n",
    "\n",
    "train_and_save(\n",
    "    XGBClassifier(random_state=7, n_jobs=2),\n",
    "    params={\n",
    "        \"tree_method\": optuna.distributions.CategoricalDistribution([\"exact\", \"approx\", \"hist\"]),\n",
    "        \"learning_rate\": optuna.distributions.CategoricalDistribution([0.03, 0.1, 0.3]),\n",
    "        \"n_estimators\": optuna.distributions.CategoricalDistribution([5, 20, 100]),\n",
    "        \"max_leaves\": optuna.distributions.CategoricalDistribution([3, 15, 40]),\n",
    "    },\n",
    ")"
   ]
  },
  {
   "cell_type": "code",
   "execution_count": 575,
   "metadata": {},
   "outputs": [
    {
     "name": "stderr",
     "output_type": "stream",
     "text": [
      "\u001b[32m[I 2023-03-25 20:39:53,136]\u001b[0m A new study created in memory with name: no-name-24a7a372-d48a-4836-8bdc-3792ca504553\u001b[0m\n"
     ]
    },
    {
     "name": "stdout",
     "output_type": "stream",
     "text": [
      "Best params #1: {'learning_rate': 0.03, 'n_estimators': 100, 'num_leaves': 40}\n",
      "Best params #2: {'learning_rate': 0.03, 'n_estimators': 100, 'num_leaves': 40}\n",
      "Best params #3: {'learning_rate': 0.1, 'n_estimators': 100, 'num_leaves': 15}\n",
      "Best params #4: {'learning_rate': 0.3, 'n_estimators': 100, 'num_leaves': 3}\n",
      "Best params #5: {'learning_rate': 0.3, 'n_estimators': 20, 'num_leaves': 15}\n",
      "CPU times: user 2.08 s, sys: 4.35 ms, total: 2.08 s\n",
      "Wall time: 9.98 s\n"
     ]
    }
   ],
   "source": [
    "%%time\n",
    "from lightgbm import LGBMClassifier\n",
    "\n",
    "train_and_save(\n",
    "    LGBMClassifier(random_state=8, n_jobs=2),\n",
    "    params={\n",
    "        \"learning_rate\": optuna.distributions.CategoricalDistribution([0.03, 0.1, 0.3]),\n",
    "        \"n_estimators\": optuna.distributions.CategoricalDistribution([5, 20, 100]),\n",
    "        \"num_leaves\": optuna.distributions.CategoricalDistribution([3, 15, 40]),\n",
    "    },\n",
    ")"
   ]
  },
  {
   "cell_type": "code",
   "execution_count": 576,
   "metadata": {},
   "outputs": [
    {
     "name": "stderr",
     "output_type": "stream",
     "text": [
      "\u001b[32m[I 2023-03-25 20:40:03,126]\u001b[0m A new study created in memory with name: no-name-b188f255-ba87-40fd-940f-05fd31770a8a\u001b[0m\n"
     ]
    },
    {
     "name": "stdout",
     "output_type": "stream",
     "text": [
      "Best params #1: {'n_estimators': 300}\n",
      "Best params #2: {'n_estimators': 300}\n",
      "Best params #3: {'n_estimators': 500}\n",
      "Best params #4: {'n_estimators': 500}\n",
      "Best params #5: {'n_estimators': 500}\n",
      "CPU times: user 120 ms, sys: 3.68 ms, total: 123 ms\n",
      "Wall time: 18.3 s\n"
     ]
    }
   ],
   "source": [
    "%%time\n",
    "from catboost import CatBoostClassifier\n",
    "\n",
    "train_and_store(\n",
    "    CatBoostClassifier(random_state=9, thread_count=2),\n",
    "    params={\n",
    "        \"n_estimators\": optuna.distributions.CategoricalDistribution([100, 300, 500]),\n",
    "    },\n",
    ")"
   ]
  },
  {
   "cell_type": "code",
   "execution_count": null,
   "metadata": {},
   "outputs": [],
   "source": [
    "results = pd.read_csv(RESULTS_PATH)"
   ]
  },
  {
   "cell_type": "code",
   "execution_count": 586,
   "metadata": {},
   "outputs": [
    {
     "data": {
      "image/png": "[encoded data removed]",
      "text/plain": [
       "<Figure size 1080x1440 with 6 Axes>"
      ]
     },
     "metadata": {
      "needs_background": "light"
     },
     "output_type": "display_data"
    }
   ],
   "source": [
    "fig, axs = plt.subplots(ncols=2, nrows=3, figsize=(15, 20))\n",
    "\n",
    "for y, ax in zip(\n",
    "    [\"fit_time\",\n",
    "     \"score_time\",\n",
    "     \"test_accuracy\",\n",
    "     \"test_precision\",\n",
    "     \"test_recall\",\n",
    "     \"test_f1\"\n",
    "    ], axs.flatten()):\n",
    "    sns.barplot(results[[\"estimator\", y]], x=\"estimator\", y=y, errwidth=1, capsize=0.3, ax=ax)\n",
    "    ax.tick_params(axis=\"x\", rotation=90)\n",
    "    ax.set_xlabel(None)\n",
    "\n",
    "fig.tight_layout()\n",
    "\n",
    "plt.show()"
   ]
  },
  {
   "cell_type": "markdown",
   "metadata": {},
   "source": [
    "По метрике `accuracy` все классификаторы показывают идентичные результаты, но немного лидируют Histogram-based gradient boosting и CatBoost, выдавая правильные прогнозы в 87% случаев, однако Histogram-based gradient boosting существенно проигрывает по скорости.\n",
    "\n",
    "По метрике `precision` явно лидирует градиентный бустинг, однако он показывает наихудший результат по метрике `recall`. \n",
    "\n",
    "По совокупности метрик, включая скорость обучения, наилучшие результаты показал CatBoost."
   ]
  },
  {
   "cell_type": "code",
   "execution_count": null,
   "metadata": {},
   "outputs": [],
   "source": []
  }
 ],
 "metadata": {
  "kernelspec": {
   "display_name": "Python 3",
   "language": "python",
   "name": "python3"
  },
  "language_info": {
   "codemirror_mode": {
    "name": "ipython",
    "version": 3
   },
   "file_extension": ".py",
   "mimetype": "text/x-python",
   "name": "python",
   "nbconvert_exporter": "python",
   "pygments_lexer": "ipython3",
   "version": "3.8.10"
  }
 },
 "nbformat": 4,
 "nbformat_minor": 4
}
