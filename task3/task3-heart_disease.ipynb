{
 "cells": [
  {
   "cell_type": "markdown",
   "metadata": {},
   "source": [
    "# Задача 3. Сравнение методов классификации\n",
    "\n",
    "* **Дедлайн**: 19.11.2023, 23:59\n",
    "* **Основной полный балл**: 5\n",
    "* **Максимум баллов**: 10\n",
    "\n",
    "## Задача\n",
    "\n",
    "- [x] Самостоятельно реализовать один из методов классификации, с возможностью настройки гиперпараметров.\n",
    "- [x] Взять данные для предсказания заболеваний сердца [тут](https://github.com/rustam-azimov/ml-course/tree/main/data/heart_disease) (целевой признак для предсказания --- **target**). Демо блокнот с анализом этих данных можно найти [тут](https://github.com/rustam-azimov/ml-course/blob/main/practice/practice07_knn_nb/practice07_part02_classification_heart_disease_demo.ipynb).\n",
    "- [x] Считать данные, выполнить первичный анализ данных, при необходимости произвести чистку данных (**Data Cleaning**).\n",
    "- [x] Выполнить разведочный анализ (**EDA**), использовать визуализацию, сделать выводы, которые могут быть полезны при дальнейшем решении задачи классификации.\n",
    "- [x] При необходимости выполнить полезные преобразования данных (например, трансформировать категориальные признаки в количественные), убрать ненужные признаки, создать новые (**Feature Engineering**).\n",
    "- [x] Используя **подбор гиперпараметров**, **кросс-валидацию** и при необходимости **масштабирование данных**, добиться наилучшего качества предсказания от Вашей реализации на выделенной заранее тестовой выборке.\n",
    "- [x] Повторить предыдущий пункт для библиотечных реализаций (например, из **sklearn**) всех пройденных методов классификации (**logistic regression, svm, knn, naive bayes, decision tree**).\n",
    "- [x] Сравнить все обученные модели, построить их **confusion matrices**. Сделать выводы о полученных моделях в рамках решения задачи классификации на выбранных данных.\n",
    "- [x] * (**+2 балла**) Реализовать еще один из методов классификации и добавить его в сравнение.\n",
    "- [x] * (**+3 балла**) Найти данные, на которых интересно будет решать задачу классификации. Повторить все пункты задания на новых данных."
   ]
  },
  {
   "cell_type": "markdown",
   "metadata": {
    "_uuid": "5878df22aae1c5888a07fe2c49d0bbe1551a3c55"
   },
   "source": [
    "# Classification Heart Disease Demo"
   ]
  },
  {
   "cell_type": "code",
   "execution_count": 869,
   "metadata": {
    "_cell_guid": "b1076dfc-b9ad-4769-8c92-a6c4dae69d19",
    "_uuid": "8f2839f25d086af736a60e9eeb907d3b93b6e0e5"
   },
   "outputs": [],
   "source": [
    "from sklearn.metrics import mean_squared_error, accuracy_score\n",
    "from sklearn.feature_selection import RFECV\n",
    "from sklearn.linear_model import LinearRegression, Ridge\n",
    "from sklearn.model_selection import train_test_split, GridSearchCV\n",
    "from sklearn.preprocessing import StandardScaler\n",
    "\n",
    "from sklearn.linear_model import RidgeClassifierCV\n",
    "\n",
    "import numpy as np\n",
    "import pandas as pd\n",
    "import matplotlib.pyplot as plt\n",
    "import seaborn as sns\n",
    "import warnings\n",
    "warnings.filterwarnings('ignore')  # отключаем предупреждения"
   ]
  },
  {
   "cell_type": "markdown",
   "metadata": {
    "_cell_guid": "79c7e3d0-c299-4dcb-8224-4455121ee9b0",
    "_uuid": "d629ff2d2480ee46fbb7e2d37f6b5fab8052498a"
   },
   "source": [
    "## Чтение данных"
   ]
  },
  {
   "cell_type": "code",
   "execution_count": 870,
   "metadata": {
    "_uuid": "8d0ffd4e0549f6f2eb24c7cc258256f2fb63ec48"
   },
   "outputs": [
    {
     "data": {
      "text/html": [
       "<div>\n",
       "<style scoped>\n",
       "    .dataframe tbody tr th:only-of-type {\n",
       "        vertical-align: middle;\n",
       "    }\n",
       "\n",
       "    .dataframe tbody tr th {\n",
       "        vertical-align: top;\n",
       "    }\n",
       "\n",
       "    .dataframe thead th {\n",
       "        text-align: right;\n",
       "    }\n",
       "</style>\n",
       "<table border=\"1\" class=\"dataframe\">\n",
       "  <thead>\n",
       "    <tr style=\"text-align: right;\">\n",
       "      <th></th>\n",
       "      <th>age</th>\n",
       "      <th>sex</th>\n",
       "      <th>cp</th>\n",
       "      <th>trestbps</th>\n",
       "      <th>chol</th>\n",
       "      <th>fbs</th>\n",
       "      <th>restecg</th>\n",
       "      <th>thalach</th>\n",
       "      <th>exang</th>\n",
       "      <th>oldpeak</th>\n",
       "      <th>slope</th>\n",
       "      <th>ca</th>\n",
       "      <th>thal</th>\n",
       "      <th>target</th>\n",
       "    </tr>\n",
       "  </thead>\n",
       "  <tbody>\n",
       "    <tr>\n",
       "      <th>0</th>\n",
       "      <td>52</td>\n",
       "      <td>1</td>\n",
       "      <td>0</td>\n",
       "      <td>125</td>\n",
       "      <td>212</td>\n",
       "      <td>0</td>\n",
       "      <td>1</td>\n",
       "      <td>168</td>\n",
       "      <td>0</td>\n",
       "      <td>1.0</td>\n",
       "      <td>2</td>\n",
       "      <td>2</td>\n",
       "      <td>3</td>\n",
       "      <td>0</td>\n",
       "    </tr>\n",
       "    <tr>\n",
       "      <th>1</th>\n",
       "      <td>53</td>\n",
       "      <td>1</td>\n",
       "      <td>0</td>\n",
       "      <td>140</td>\n",
       "      <td>203</td>\n",
       "      <td>1</td>\n",
       "      <td>0</td>\n",
       "      <td>155</td>\n",
       "      <td>1</td>\n",
       "      <td>3.1</td>\n",
       "      <td>0</td>\n",
       "      <td>0</td>\n",
       "      <td>3</td>\n",
       "      <td>0</td>\n",
       "    </tr>\n",
       "    <tr>\n",
       "      <th>2</th>\n",
       "      <td>70</td>\n",
       "      <td>1</td>\n",
       "      <td>0</td>\n",
       "      <td>145</td>\n",
       "      <td>174</td>\n",
       "      <td>0</td>\n",
       "      <td>1</td>\n",
       "      <td>125</td>\n",
       "      <td>1</td>\n",
       "      <td>2.6</td>\n",
       "      <td>0</td>\n",
       "      <td>0</td>\n",
       "      <td>3</td>\n",
       "      <td>0</td>\n",
       "    </tr>\n",
       "    <tr>\n",
       "      <th>3</th>\n",
       "      <td>61</td>\n",
       "      <td>1</td>\n",
       "      <td>0</td>\n",
       "      <td>148</td>\n",
       "      <td>203</td>\n",
       "      <td>0</td>\n",
       "      <td>1</td>\n",
       "      <td>161</td>\n",
       "      <td>0</td>\n",
       "      <td>0.0</td>\n",
       "      <td>2</td>\n",
       "      <td>1</td>\n",
       "      <td>3</td>\n",
       "      <td>0</td>\n",
       "    </tr>\n",
       "    <tr>\n",
       "      <th>4</th>\n",
       "      <td>62</td>\n",
       "      <td>0</td>\n",
       "      <td>0</td>\n",
       "      <td>138</td>\n",
       "      <td>294</td>\n",
       "      <td>1</td>\n",
       "      <td>1</td>\n",
       "      <td>106</td>\n",
       "      <td>0</td>\n",
       "      <td>1.9</td>\n",
       "      <td>1</td>\n",
       "      <td>3</td>\n",
       "      <td>2</td>\n",
       "      <td>0</td>\n",
       "    </tr>\n",
       "  </tbody>\n",
       "</table>\n",
       "</div>"
      ],
      "text/plain": [
       "   age  sex  cp  trestbps  chol  fbs  restecg  thalach  exang  oldpeak  slope  \\\n",
       "0   52    1   0       125   212    0        1      168      0      1.0      2   \n",
       "1   53    1   0       140   203    1        0      155      1      3.1      0   \n",
       "2   70    1   0       145   174    0        1      125      1      2.6      0   \n",
       "3   61    1   0       148   203    0        1      161      0      0.0      2   \n",
       "4   62    0   0       138   294    1        1      106      0      1.9      1   \n",
       "\n",
       "   ca  thal  target  \n",
       "0   2     3       0  \n",
       "1   0     3       0  \n",
       "2   0     3       0  \n",
       "3   1     3       0  \n",
       "4   3     2       0  "
      ]
     },
     "execution_count": 870,
     "metadata": {},
     "output_type": "execute_result"
    }
   ],
   "source": [
    "df = pd.read_csv('./heart.csv')\n",
    "df.head()"
   ]
  },
  {
   "cell_type": "markdown",
   "metadata": {
    "_uuid": "e7df2228490edc65cef3d01659b4ef96fe15e191"
   },
   "source": [
    "Возьмём данные заболеваний сердца у пациентов, которые можно скачать [тут](https://www.kaggle.com/code/ahmedadell30/heart-disease-prediction-with-ann-models/data).\n",
    "\n",
    "Описание датасета: <br>\n",
    "\n",
    "* age - age in years <br>\n",
    "* sex - (1 = male; 0 = female) <br>\n",
    "* cp - chest pain type <br>\n",
    "* trestbps - resting blood pressure (in mm Hg on admission to the hospital) <br>\n",
    "* chol - serum cholestoral in mg/dl <br>\n",
    "* fbs - (fasting blood sugar > 120 mg/dl) (1 = true; 0 = false) <br>\n",
    "* restecg - resting electrocardiographic results <br>\n",
    "* thalach - maximum heart rate achieved <br>\n",
    "* exang - exercise induced angina (1 = yes; 0 = no) <br>\n",
    "* oldpeak - ST depression induced by exercise relative to rest <br>\n",
    "* slope - the slope of the peak exercise ST segment <br>\n",
    "* ca - number of major vessels (0-3) colored by flourosopy <br>\n",
    "* thal - 3 = normal; 6 = fixed defect; 7 = reversable defect <br>\n",
    "* target - have disease or not (1=yes, 0=no)\n",
    "\n",
    "Необходимо решить задачу классификации и научиться предсказывать целовой признак **target** имеет ли пациент заболевание сердца."
   ]
  },
  {
   "cell_type": "markdown",
   "metadata": {
    "_uuid": "5c510b6aea2f9083981bf75dc67c5250b3b891c7"
   },
   "source": [
    "## EDA"
   ]
  },
  {
   "cell_type": "code",
   "execution_count": 871,
   "metadata": {
    "_uuid": "00af1961381609399dd80ca7c6a950277c120357"
   },
   "outputs": [
    {
     "data": {
      "text/plain": [
       "target\n",
       "1    526\n",
       "0    499\n",
       "Name: count, dtype: int64"
      ]
     },
     "execution_count": 871,
     "metadata": {},
     "output_type": "execute_result"
    }
   ],
   "source": [
    "df.target.value_counts()"
   ]
  },
  {
   "cell_type": "code",
   "execution_count": 872,
   "metadata": {
    "_uuid": "f0c639a82d794e41978199f7fa4405a01a7b805e"
   },
   "outputs": [
    {
     "data": {
      "image/png": "[encoded data removed]",
      "text/plain": [
       "<Figure size 640x480 with 1 Axes>"
      ]
     },
     "metadata": {},
     "output_type": "display_data"
    }
   ],
   "source": [
    "sns.countplot(x=\"target\", data=df)\n",
    "plt.show()"
   ]
  },
  {
   "cell_type": "code",
   "execution_count": 873,
   "metadata": {
    "_uuid": "aca4074785c40bcf036a59c14c78e3a503904724"
   },
   "outputs": [
    {
     "data": {
      "image/png": "[encoded data removed]",
      "text/plain": [
       "<Figure size 640x480 with 1 Axes>"
      ]
     },
     "metadata": {},
     "output_type": "display_data"
    }
   ],
   "source": [
    "sns.countplot(x='sex', data=df)\n",
    "plt.xlabel(\"Sex (0 = female, 1 = male)\")\n",
    "plt.show()"
   ]
  },
  {
   "cell_type": "code",
   "execution_count": 874,
   "metadata": {
    "_uuid": "435f8691396c6f2b1a901809286eb64112126582"
   },
   "outputs": [
    {
     "data": {
      "text/html": [
       "<div>\n",
       "<style scoped>\n",
       "    .dataframe tbody tr th:only-of-type {\n",
       "        vertical-align: middle;\n",
       "    }\n",
       "\n",
       "    .dataframe tbody tr th {\n",
       "        vertical-align: top;\n",
       "    }\n",
       "\n",
       "    .dataframe thead th {\n",
       "        text-align: right;\n",
       "    }\n",
       "</style>\n",
       "<table border=\"1\" class=\"dataframe\">\n",
       "  <thead>\n",
       "    <tr style=\"text-align: right;\">\n",
       "      <th></th>\n",
       "      <th>age</th>\n",
       "      <th>sex</th>\n",
       "      <th>cp</th>\n",
       "      <th>trestbps</th>\n",
       "      <th>chol</th>\n",
       "      <th>fbs</th>\n",
       "      <th>restecg</th>\n",
       "      <th>thalach</th>\n",
       "      <th>exang</th>\n",
       "      <th>oldpeak</th>\n",
       "      <th>slope</th>\n",
       "      <th>ca</th>\n",
       "      <th>thal</th>\n",
       "    </tr>\n",
       "    <tr>\n",
       "      <th>target</th>\n",
       "      <th></th>\n",
       "      <th></th>\n",
       "      <th></th>\n",
       "      <th></th>\n",
       "      <th></th>\n",
       "      <th></th>\n",
       "      <th></th>\n",
       "      <th></th>\n",
       "      <th></th>\n",
       "      <th></th>\n",
       "      <th></th>\n",
       "      <th></th>\n",
       "      <th></th>\n",
       "    </tr>\n",
       "  </thead>\n",
       "  <tbody>\n",
       "    <tr>\n",
       "      <th>0</th>\n",
       "      <td>56.569138</td>\n",
       "      <td>0.827655</td>\n",
       "      <td>0.482966</td>\n",
       "      <td>134.106212</td>\n",
       "      <td>251.292585</td>\n",
       "      <td>0.164329</td>\n",
       "      <td>0.456914</td>\n",
       "      <td>139.130261</td>\n",
       "      <td>0.549098</td>\n",
       "      <td>1.600200</td>\n",
       "      <td>1.166333</td>\n",
       "      <td>1.158317</td>\n",
       "      <td>2.539078</td>\n",
       "    </tr>\n",
       "    <tr>\n",
       "      <th>1</th>\n",
       "      <td>52.408745</td>\n",
       "      <td>0.570342</td>\n",
       "      <td>1.378327</td>\n",
       "      <td>129.245247</td>\n",
       "      <td>240.979087</td>\n",
       "      <td>0.134981</td>\n",
       "      <td>0.598859</td>\n",
       "      <td>158.585551</td>\n",
       "      <td>0.134981</td>\n",
       "      <td>0.569962</td>\n",
       "      <td>1.593156</td>\n",
       "      <td>0.370722</td>\n",
       "      <td>2.119772</td>\n",
       "    </tr>\n",
       "  </tbody>\n",
       "</table>\n",
       "</div>"
      ],
      "text/plain": [
       "              age       sex        cp    trestbps        chol       fbs  \\\n",
       "target                                                                    \n",
       "0       56.569138  0.827655  0.482966  134.106212  251.292585  0.164329   \n",
       "1       52.408745  0.570342  1.378327  129.245247  240.979087  0.134981   \n",
       "\n",
       "         restecg     thalach     exang   oldpeak     slope        ca      thal  \n",
       "target                                                                          \n",
       "0       0.456914  139.130261  0.549098  1.600200  1.166333  1.158317  2.539078  \n",
       "1       0.598859  158.585551  0.134981  0.569962  1.593156  0.370722  2.119772  "
      ]
     },
     "execution_count": 874,
     "metadata": {},
     "output_type": "execute_result"
    }
   ],
   "source": [
    "df.groupby('target').mean()"
   ]
  },
  {
   "cell_type": "code",
   "execution_count": 875,
   "metadata": {
    "_uuid": "e0eed947b5490e93a43515ad6d2a6af9713f16ce"
   },
   "outputs": [
    {
     "data": {
      "image/png": "[encoded data removed]",
      "text/plain": [
       "<Figure size 2000x600 with 1 Axes>"
      ]
     },
     "metadata": {},
     "output_type": "display_data"
    }
   ],
   "source": [
    "pd.crosstab(df.age,df.target).plot(kind=\"bar\", figsize=(20, 6))\n",
    "plt.title('Heart Disease Frequency for Ages')\n",
    "plt.xlabel('Age')\n",
    "plt.ylabel('Frequency')\n",
    "plt.show()"
   ]
  },
  {
   "cell_type": "code",
   "execution_count": 876,
   "metadata": {
    "_uuid": "1cb0e9e4ec00ca7caa2e77a03dd0289e1c549708"
   },
   "outputs": [
    {
     "data": {
      "image/png": "[encoded data removed]",
      "text/plain": [
       "<Figure size 1500x600 with 1 Axes>"
      ]
     },
     "metadata": {},
     "output_type": "display_data"
    }
   ],
   "source": [
    "pd.crosstab(df.sex,df.target).plot(kind=\"bar\", figsize=(15, 6), color=['#1CA53B', '#AA1111' ])\n",
    "plt.title('Heart Disease Frequency for Sex')\n",
    "plt.xlabel('Sex (0 = Female, 1 = Male)')\n",
    "plt.xticks(rotation=0)\n",
    "plt.legend([\"Haven't Disease\", \"Have Disease\"])\n",
    "plt.ylabel('Frequency')\n",
    "plt.show()"
   ]
  },
  {
   "cell_type": "code",
   "execution_count": 877,
   "metadata": {
    "_uuid": "e5fe0744106dc26475e2e0274081789518ad8a51"
   },
   "outputs": [
    {
     "data": {
      "image/png": "[encoded data removed]",
      "text/plain": [
       "<Figure size 640x480 with 1 Axes>"
      ]
     },
     "metadata": {},
     "output_type": "display_data"
    }
   ],
   "source": [
    "plt.scatter(x=df.age[df.target==1], y=df.thalach[(df.target==1)], c=\"red\")\n",
    "plt.scatter(x=df.age[df.target==0], y=df.thalach[(df.target==0)])\n",
    "plt.legend([\"Disease\", \"Not Disease\"])\n",
    "plt.xlabel(\"Age\")\n",
    "plt.ylabel(\"Maximum Heart Rate\")\n",
    "plt.show()"
   ]
  },
  {
   "cell_type": "code",
   "execution_count": 878,
   "metadata": {
    "_uuid": "730062aa471d6774f0b761ad2cb6a7043d339615"
   },
   "outputs": [
    {
     "data": {
      "image/png": "[encoded data removed]",
      "text/plain": [
       "<Figure size 1500x600 with 1 Axes>"
      ]
     },
     "metadata": {},
     "output_type": "display_data"
    }
   ],
   "source": [
    "pd.crosstab(df.slope,df.target).plot(kind=\"bar\", figsize=(15, 6), color=['#DAF7A6','#FF5733' ])\n",
    "plt.title('Heart Disease Frequency for Slope')\n",
    "plt.xlabel('The Slope of The Peak Exercise ST Segment ')\n",
    "plt.xticks(rotation = 0)\n",
    "plt.ylabel('Frequency')\n",
    "plt.show()"
   ]
  },
  {
   "cell_type": "code",
   "execution_count": 879,
   "metadata": {
    "_uuid": "3209c3a2fe67592b6ff6851327e98ac7606e14eb"
   },
   "outputs": [
    {
     "data": {
      "image/png": "[encoded data removed]",
      "text/plain": [
       "<Figure size 1500x600 with 1 Axes>"
      ]
     },
     "metadata": {},
     "output_type": "display_data"
    }
   ],
   "source": [
    "pd.crosstab(df.fbs,df.target).plot(kind=\"bar\", figsize=(15, 6), color=['#FFC300','#581845' ])\n",
    "plt.title('Heart Disease Frequency According To FBS')\n",
    "plt.xlabel('FBS - (Fasting Blood Sugar > 120 mg/dl) (1 = true; 0 = false)')\n",
    "plt.xticks(rotation = 0)\n",
    "plt.legend([\"Haven't Disease\", \"Have Disease\"])\n",
    "plt.ylabel('Frequency of Disease or Not')\n",
    "plt.show()"
   ]
  },
  {
   "cell_type": "code",
   "execution_count": 880,
   "metadata": {
    "_uuid": "10be6f01d184480eca7437799c214b4847fd3543"
   },
   "outputs": [
    {
     "data": {
      "image/png": "[encoded data removed]",
      "text/plain": [
       "<Figure size 1500x600 with 1 Axes>"
      ]
     },
     "metadata": {},
     "output_type": "display_data"
    }
   ],
   "source": [
    "pd.crosstab(df.cp,df.target).plot(kind=\"bar\",figsize=(15, 6), color=['#11A5AA','#AA1190' ])\n",
    "plt.title('Heart Disease Frequency According To Chest Pain Type')\n",
    "plt.xlabel('Chest Pain Type')\n",
    "plt.xticks(rotation = 0)\n",
    "plt.ylabel('Frequency of Disease or Not')\n",
    "plt.show()"
   ]
  },
  {
   "cell_type": "markdown",
   "metadata": {
    "_uuid": "e2a8abf83186e8ddff507765dcea4e575e677624"
   },
   "source": [
    "### Преобразование категориальных признаков"
   ]
  },
  {
   "cell_type": "markdown",
   "metadata": {
    "_uuid": "5d3461c57453ac62a71185997d716b755d00fa33"
   },
   "source": [
    "Закодируем категориальные признаки **cp**, **thal** и **slope**."
   ]
  },
  {
   "cell_type": "code",
   "execution_count": 881,
   "metadata": {
    "_uuid": "c2fb6259a757a62926b86aa0eea6f663a8ec094f"
   },
   "outputs": [
    {
     "data": {
      "text/plain": [
       "0       0\n",
       "1       0\n",
       "2       0\n",
       "3       0\n",
       "4       0\n",
       "       ..\n",
       "1020    1\n",
       "1021    0\n",
       "1022    0\n",
       "1023    1\n",
       "1024    0\n",
       "Name: target, Length: 1025, dtype: int64"
      ]
     },
     "execution_count": 881,
     "metadata": {},
     "output_type": "execute_result"
    }
   ],
   "source": [
    "cp_dum = pd.get_dummies(df['cp'], prefix = \"cp\")\n",
    "thal_dum = pd.get_dummies(df['thal'], prefix = \"thal\")\n",
    "slope_dum = pd.get_dummies(df['slope'], prefix = \"slope\")\n",
    "\n",
    "frames = [df, cp_dum, thal_dum, slope_dum]\n",
    "df = pd.concat(frames, axis = 1)\n",
    "df.target"
   ]
  },
  {
   "cell_type": "code",
   "execution_count": 882,
   "metadata": {
    "_uuid": "01011d45333bde3d9f95e3db93ae4517c72a741f"
   },
   "outputs": [
    {
     "data": {
      "text/html": [
       "<div>\n",
       "<style scoped>\n",
       "    .dataframe tbody tr th:only-of-type {\n",
       "        vertical-align: middle;\n",
       "    }\n",
       "\n",
       "    .dataframe tbody tr th {\n",
       "        vertical-align: top;\n",
       "    }\n",
       "\n",
       "    .dataframe thead th {\n",
       "        text-align: right;\n",
       "    }\n",
       "</style>\n",
       "<table border=\"1\" class=\"dataframe\">\n",
       "  <thead>\n",
       "    <tr style=\"text-align: right;\">\n",
       "      <th></th>\n",
       "      <th>age</th>\n",
       "      <th>sex</th>\n",
       "      <th>trestbps</th>\n",
       "      <th>fbs</th>\n",
       "      <th>restecg</th>\n",
       "      <th>thalach</th>\n",
       "      <th>exang</th>\n",
       "      <th>oldpeak</th>\n",
       "      <th>ca</th>\n",
       "      <th>target</th>\n",
       "      <th>...</th>\n",
       "      <th>cp_1</th>\n",
       "      <th>cp_2</th>\n",
       "      <th>cp_3</th>\n",
       "      <th>thal_0</th>\n",
       "      <th>thal_1</th>\n",
       "      <th>thal_2</th>\n",
       "      <th>thal_3</th>\n",
       "      <th>slope_0</th>\n",
       "      <th>slope_1</th>\n",
       "      <th>slope_2</th>\n",
       "    </tr>\n",
       "  </thead>\n",
       "  <tbody>\n",
       "    <tr>\n",
       "      <th>0</th>\n",
       "      <td>52</td>\n",
       "      <td>1</td>\n",
       "      <td>125</td>\n",
       "      <td>0</td>\n",
       "      <td>1</td>\n",
       "      <td>168</td>\n",
       "      <td>0</td>\n",
       "      <td>1.0</td>\n",
       "      <td>2</td>\n",
       "      <td>0</td>\n",
       "      <td>...</td>\n",
       "      <td>False</td>\n",
       "      <td>False</td>\n",
       "      <td>False</td>\n",
       "      <td>False</td>\n",
       "      <td>False</td>\n",
       "      <td>False</td>\n",
       "      <td>True</td>\n",
       "      <td>False</td>\n",
       "      <td>False</td>\n",
       "      <td>True</td>\n",
       "    </tr>\n",
       "    <tr>\n",
       "      <th>1</th>\n",
       "      <td>53</td>\n",
       "      <td>1</td>\n",
       "      <td>140</td>\n",
       "      <td>1</td>\n",
       "      <td>0</td>\n",
       "      <td>155</td>\n",
       "      <td>1</td>\n",
       "      <td>3.1</td>\n",
       "      <td>0</td>\n",
       "      <td>0</td>\n",
       "      <td>...</td>\n",
       "      <td>False</td>\n",
       "      <td>False</td>\n",
       "      <td>False</td>\n",
       "      <td>False</td>\n",
       "      <td>False</td>\n",
       "      <td>False</td>\n",
       "      <td>True</td>\n",
       "      <td>True</td>\n",
       "      <td>False</td>\n",
       "      <td>False</td>\n",
       "    </tr>\n",
       "    <tr>\n",
       "      <th>2</th>\n",
       "      <td>70</td>\n",
       "      <td>1</td>\n",
       "      <td>145</td>\n",
       "      <td>0</td>\n",
       "      <td>1</td>\n",
       "      <td>125</td>\n",
       "      <td>1</td>\n",
       "      <td>2.6</td>\n",
       "      <td>0</td>\n",
       "      <td>0</td>\n",
       "      <td>...</td>\n",
       "      <td>False</td>\n",
       "      <td>False</td>\n",
       "      <td>False</td>\n",
       "      <td>False</td>\n",
       "      <td>False</td>\n",
       "      <td>False</td>\n",
       "      <td>True</td>\n",
       "      <td>True</td>\n",
       "      <td>False</td>\n",
       "      <td>False</td>\n",
       "    </tr>\n",
       "    <tr>\n",
       "      <th>3</th>\n",
       "      <td>61</td>\n",
       "      <td>1</td>\n",
       "      <td>148</td>\n",
       "      <td>0</td>\n",
       "      <td>1</td>\n",
       "      <td>161</td>\n",
       "      <td>0</td>\n",
       "      <td>0.0</td>\n",
       "      <td>1</td>\n",
       "      <td>0</td>\n",
       "      <td>...</td>\n",
       "      <td>False</td>\n",
       "      <td>False</td>\n",
       "      <td>False</td>\n",
       "      <td>False</td>\n",
       "      <td>False</td>\n",
       "      <td>False</td>\n",
       "      <td>True</td>\n",
       "      <td>False</td>\n",
       "      <td>False</td>\n",
       "      <td>True</td>\n",
       "    </tr>\n",
       "    <tr>\n",
       "      <th>4</th>\n",
       "      <td>62</td>\n",
       "      <td>0</td>\n",
       "      <td>138</td>\n",
       "      <td>1</td>\n",
       "      <td>1</td>\n",
       "      <td>106</td>\n",
       "      <td>0</td>\n",
       "      <td>1.9</td>\n",
       "      <td>3</td>\n",
       "      <td>0</td>\n",
       "      <td>...</td>\n",
       "      <td>False</td>\n",
       "      <td>False</td>\n",
       "      <td>False</td>\n",
       "      <td>False</td>\n",
       "      <td>False</td>\n",
       "      <td>True</td>\n",
       "      <td>False</td>\n",
       "      <td>False</td>\n",
       "      <td>True</td>\n",
       "      <td>False</td>\n",
       "    </tr>\n",
       "  </tbody>\n",
       "</table>\n",
       "<p>5 rows × 21 columns</p>\n",
       "</div>"
      ],
      "text/plain": [
       "   age  sex  trestbps  fbs  restecg  thalach  exang  oldpeak  ca  target  ...  \\\n",
       "0   52    1       125    0        1      168      0      1.0   2       0  ...   \n",
       "1   53    1       140    1        0      155      1      3.1   0       0  ...   \n",
       "2   70    1       145    0        1      125      1      2.6   0       0  ...   \n",
       "3   61    1       148    0        1      161      0      0.0   1       0  ...   \n",
       "4   62    0       138    1        1      106      0      1.9   3       0  ...   \n",
       "\n",
       "    cp_1   cp_2   cp_3  thal_0  thal_1  thal_2  thal_3  slope_0  slope_1  \\\n",
       "0  False  False  False   False   False   False    True    False    False   \n",
       "1  False  False  False   False   False   False    True     True    False   \n",
       "2  False  False  False   False   False   False    True     True    False   \n",
       "3  False  False  False   False   False   False    True    False    False   \n",
       "4  False  False  False   False   False    True   False    False     True   \n",
       "\n",
       "   slope_2  \n",
       "0     True  \n",
       "1    False  \n",
       "2    False  \n",
       "3     True  \n",
       "4    False  \n",
       "\n",
       "[5 rows x 21 columns]"
      ]
     },
     "execution_count": 882,
     "metadata": {},
     "output_type": "execute_result"
    }
   ],
   "source": [
    "df = df.drop(columns = ['cp', 'chol', 'thal', 'slope'])\n",
    "df.head()"
   ]
  },
  {
   "cell_type": "markdown",
   "metadata": {},
   "source": [
    "## 🚩Разбиение данных с использованием train_test_split и масштабирование"
   ]
  },
  {
   "cell_type": "code",
   "execution_count": 883,
   "metadata": {
    "_uuid": "3090d1ba1e8776706d23a1175db6d1451908a954"
   },
   "outputs": [
    {
     "data": {
      "text/html": [
       "<div>\n",
       "<style scoped>\n",
       "    .dataframe tbody tr th:only-of-type {\n",
       "        vertical-align: middle;\n",
       "    }\n",
       "\n",
       "    .dataframe tbody tr th {\n",
       "        vertical-align: top;\n",
       "    }\n",
       "\n",
       "    .dataframe thead th {\n",
       "        text-align: right;\n",
       "    }\n",
       "</style>\n",
       "<table border=\"1\" class=\"dataframe\">\n",
       "  <thead>\n",
       "    <tr style=\"text-align: right;\">\n",
       "      <th></th>\n",
       "      <th>age</th>\n",
       "      <th>sex</th>\n",
       "      <th>trestbps</th>\n",
       "      <th>fbs</th>\n",
       "      <th>restecg</th>\n",
       "      <th>thalach</th>\n",
       "      <th>exang</th>\n",
       "      <th>oldpeak</th>\n",
       "      <th>ca</th>\n",
       "      <th>cp_0</th>\n",
       "      <th>cp_1</th>\n",
       "      <th>cp_2</th>\n",
       "      <th>cp_3</th>\n",
       "      <th>thal_0</th>\n",
       "      <th>thal_1</th>\n",
       "      <th>thal_2</th>\n",
       "      <th>thal_3</th>\n",
       "      <th>slope_0</th>\n",
       "      <th>slope_1</th>\n",
       "      <th>slope_2</th>\n",
       "    </tr>\n",
       "  </thead>\n",
       "  <tbody>\n",
       "    <tr>\n",
       "      <th>0</th>\n",
       "      <td>-1.481117</td>\n",
       "      <td>0.650566</td>\n",
       "      <td>-1.117672</td>\n",
       "      <td>-0.425115</td>\n",
       "      <td>0.931131</td>\n",
       "      <td>1.285426</td>\n",
       "      <td>-0.696311</td>\n",
       "      <td>-0.899374</td>\n",
       "      <td>-0.729676</td>\n",
       "      <td>-0.968428</td>\n",
       "      <td>-0.41792</td>\n",
       "      <td>1.586805</td>\n",
       "      <td>-0.301032</td>\n",
       "      <td>-0.054074</td>\n",
       "      <td>-0.27429</td>\n",
       "      <td>0.946059</td>\n",
       "      <td>-0.815505</td>\n",
       "      <td>-0.261793</td>\n",
       "      <td>-0.932314</td>\n",
       "      <td>1.060113</td>\n",
       "    </tr>\n",
       "    <tr>\n",
       "      <th>1</th>\n",
       "      <td>0.394729</td>\n",
       "      <td>0.650566</td>\n",
       "      <td>-0.378854</td>\n",
       "      <td>-0.425115</td>\n",
       "      <td>0.931131</td>\n",
       "      <td>-0.272293</td>\n",
       "      <td>-0.696311</td>\n",
       "      <td>-0.549171</td>\n",
       "      <td>3.041003</td>\n",
       "      <td>-0.968428</td>\n",
       "      <td>2.39280</td>\n",
       "      <td>-0.630197</td>\n",
       "      <td>-0.301032</td>\n",
       "      <td>-0.054074</td>\n",
       "      <td>-0.27429</td>\n",
       "      <td>-1.057017</td>\n",
       "      <td>1.226234</td>\n",
       "      <td>-0.261793</td>\n",
       "      <td>1.072600</td>\n",
       "      <td>-0.943296</td>\n",
       "    </tr>\n",
       "    <tr>\n",
       "      <th>2</th>\n",
       "      <td>-0.488022</td>\n",
       "      <td>0.650566</td>\n",
       "      <td>1.041951</td>\n",
       "      <td>-0.425115</td>\n",
       "      <td>-0.992832</td>\n",
       "      <td>-0.984393</td>\n",
       "      <td>-0.696311</td>\n",
       "      <td>1.376947</td>\n",
       "      <td>-0.729676</td>\n",
       "      <td>1.032601</td>\n",
       "      <td>-0.41792</td>\n",
       "      <td>-0.630197</td>\n",
       "      <td>-0.301032</td>\n",
       "      <td>-0.054074</td>\n",
       "      <td>-0.27429</td>\n",
       "      <td>-1.057017</td>\n",
       "      <td>1.226234</td>\n",
       "      <td>-0.261793</td>\n",
       "      <td>1.072600</td>\n",
       "      <td>-0.943296</td>\n",
       "    </tr>\n",
       "    <tr>\n",
       "      <th>3</th>\n",
       "      <td>-0.267335</td>\n",
       "      <td>0.650566</td>\n",
       "      <td>0.132636</td>\n",
       "      <td>-0.425115</td>\n",
       "      <td>0.931131</td>\n",
       "      <td>0.350795</td>\n",
       "      <td>-0.696311</td>\n",
       "      <td>-0.198968</td>\n",
       "      <td>0.212994</td>\n",
       "      <td>-0.968428</td>\n",
       "      <td>2.39280</td>\n",
       "      <td>-0.630197</td>\n",
       "      <td>-0.301032</td>\n",
       "      <td>-0.054074</td>\n",
       "      <td>-0.27429</td>\n",
       "      <td>0.946059</td>\n",
       "      <td>-0.815505</td>\n",
       "      <td>-0.261793</td>\n",
       "      <td>-0.932314</td>\n",
       "      <td>1.060113</td>\n",
       "    </tr>\n",
       "    <tr>\n",
       "      <th>4</th>\n",
       "      <td>-0.267335</td>\n",
       "      <td>0.650566</td>\n",
       "      <td>1.155616</td>\n",
       "      <td>2.352304</td>\n",
       "      <td>0.931131</td>\n",
       "      <td>1.240920</td>\n",
       "      <td>-0.696311</td>\n",
       "      <td>0.151236</td>\n",
       "      <td>-0.729676</td>\n",
       "      <td>-0.968428</td>\n",
       "      <td>-0.41792</td>\n",
       "      <td>-0.630197</td>\n",
       "      <td>3.321910</td>\n",
       "      <td>-0.054074</td>\n",
       "      <td>-0.27429</td>\n",
       "      <td>-1.057017</td>\n",
       "      <td>1.226234</td>\n",
       "      <td>-0.261793</td>\n",
       "      <td>1.072600</td>\n",
       "      <td>-0.943296</td>\n",
       "    </tr>\n",
       "  </tbody>\n",
       "</table>\n",
       "</div>"
      ],
      "text/plain": [
       "        age       sex  trestbps       fbs   restecg   thalach     exang  \\\n",
       "0 -1.481117  0.650566 -1.117672 -0.425115  0.931131  1.285426 -0.696311   \n",
       "1  0.394729  0.650566 -0.378854 -0.425115  0.931131 -0.272293 -0.696311   \n",
       "2 -0.488022  0.650566  1.041951 -0.425115 -0.992832 -0.984393 -0.696311   \n",
       "3 -0.267335  0.650566  0.132636 -0.425115  0.931131  0.350795 -0.696311   \n",
       "4 -0.267335  0.650566  1.155616  2.352304  0.931131  1.240920 -0.696311   \n",
       "\n",
       "    oldpeak        ca      cp_0     cp_1      cp_2      cp_3    thal_0  \\\n",
       "0 -0.899374 -0.729676 -0.968428 -0.41792  1.586805 -0.301032 -0.054074   \n",
       "1 -0.549171  3.041003 -0.968428  2.39280 -0.630197 -0.301032 -0.054074   \n",
       "2  1.376947 -0.729676  1.032601 -0.41792 -0.630197 -0.301032 -0.054074   \n",
       "3 -0.198968  0.212994 -0.968428  2.39280 -0.630197 -0.301032 -0.054074   \n",
       "4  0.151236 -0.729676 -0.968428 -0.41792 -0.630197  3.321910 -0.054074   \n",
       "\n",
       "    thal_1    thal_2    thal_3   slope_0   slope_1   slope_2  \n",
       "0 -0.27429  0.946059 -0.815505 -0.261793 -0.932314  1.060113  \n",
       "1 -0.27429 -1.057017  1.226234 -0.261793  1.072600 -0.943296  \n",
       "2 -0.27429 -1.057017  1.226234 -0.261793  1.072600 -0.943296  \n",
       "3 -0.27429  0.946059 -0.815505 -0.261793 -0.932314  1.060113  \n",
       "4 -0.27429 -1.057017  1.226234 -0.261793  1.072600 -0.943296  "
      ]
     },
     "execution_count": 883,
     "metadata": {},
     "output_type": "execute_result"
    }
   ],
   "source": [
    "y = df['target']\n",
    "X = df.drop(columns=['target'])\n",
    "\n",
    "X_train, X_test, y_train, y_test = train_test_split(X, y, test_size = 0.33, random_state=42)\n",
    "\n",
    "scaler = StandardScaler()\n",
    "X_train = pd.DataFrame(scaler.fit_transform(X_train), columns=X.columns)\n",
    "X_test = pd.DataFrame(scaler.transform(X_test), columns=X.columns)\n",
    "X_train.head(5)"
   ]
  },
  {
   "cell_type": "markdown",
   "metadata": {},
   "source": [
    "### Отбор наилучших признаков с помощью рекурсивного исключения признаков и кросс-валидации (RFECV)"
   ]
  },
  {
   "cell_type": "code",
   "execution_count": 884,
   "metadata": {},
   "outputs": [
    {
     "name": "stdout",
     "output_type": "stream",
     "text": [
      "Optimal features:  11\n",
      "Selected features:  ['sex', 'trestbps', 'thalach', 'exang', 'oldpeak', 'ca', 'cp_0', 'thal_0', 'thal_2', 'thal_3', 'slope_1']\n"
     ]
    }
   ],
   "source": [
    "rfecv = RFECV(estimator=RidgeClassifierCV())\n",
    "\n",
    "rfecv.fit(X_train, y_train)\n",
    "\n",
    "selected_features = list(X_train.columns[rfecv.support_])\n",
    "print(\"Optimal features: \", rfecv.n_features_)\n",
    "print(\"Selected features: \", selected_features)"
   ]
  },
  {
   "cell_type": "code",
   "execution_count": 885,
   "metadata": {},
   "outputs": [],
   "source": [
    "X_train = X_train[selected_features]\n",
    "X_test = X_test[selected_features]"
   ]
  },
  {
   "cell_type": "code",
   "execution_count": 886,
   "metadata": {},
   "outputs": [
    {
     "data": {
      "text/html": [
       "<div>\n",
       "<style scoped>\n",
       "    .dataframe tbody tr th:only-of-type {\n",
       "        vertical-align: middle;\n",
       "    }\n",
       "\n",
       "    .dataframe tbody tr th {\n",
       "        vertical-align: top;\n",
       "    }\n",
       "\n",
       "    .dataframe thead th {\n",
       "        text-align: right;\n",
       "    }\n",
       "</style>\n",
       "<table border=\"1\" class=\"dataframe\">\n",
       "  <thead>\n",
       "    <tr style=\"text-align: right;\">\n",
       "      <th></th>\n",
       "      <th>sex</th>\n",
       "      <th>trestbps</th>\n",
       "      <th>thalach</th>\n",
       "      <th>exang</th>\n",
       "      <th>oldpeak</th>\n",
       "      <th>ca</th>\n",
       "      <th>cp_0</th>\n",
       "      <th>thal_0</th>\n",
       "      <th>thal_2</th>\n",
       "      <th>thal_3</th>\n",
       "      <th>slope_1</th>\n",
       "    </tr>\n",
       "  </thead>\n",
       "  <tbody>\n",
       "    <tr>\n",
       "      <th>0</th>\n",
       "      <td>0.650566</td>\n",
       "      <td>-1.117672</td>\n",
       "      <td>1.285426</td>\n",
       "      <td>-0.696311</td>\n",
       "      <td>-0.899374</td>\n",
       "      <td>-0.729676</td>\n",
       "      <td>-0.968428</td>\n",
       "      <td>-0.054074</td>\n",
       "      <td>0.946059</td>\n",
       "      <td>-0.815505</td>\n",
       "      <td>-0.932314</td>\n",
       "    </tr>\n",
       "    <tr>\n",
       "      <th>1</th>\n",
       "      <td>0.650566</td>\n",
       "      <td>-0.378854</td>\n",
       "      <td>-0.272293</td>\n",
       "      <td>-0.696311</td>\n",
       "      <td>-0.549171</td>\n",
       "      <td>3.041003</td>\n",
       "      <td>-0.968428</td>\n",
       "      <td>-0.054074</td>\n",
       "      <td>-1.057017</td>\n",
       "      <td>1.226234</td>\n",
       "      <td>1.072600</td>\n",
       "    </tr>\n",
       "    <tr>\n",
       "      <th>2</th>\n",
       "      <td>0.650566</td>\n",
       "      <td>1.041951</td>\n",
       "      <td>-0.984393</td>\n",
       "      <td>-0.696311</td>\n",
       "      <td>1.376947</td>\n",
       "      <td>-0.729676</td>\n",
       "      <td>1.032601</td>\n",
       "      <td>-0.054074</td>\n",
       "      <td>-1.057017</td>\n",
       "      <td>1.226234</td>\n",
       "      <td>1.072600</td>\n",
       "    </tr>\n",
       "    <tr>\n",
       "      <th>3</th>\n",
       "      <td>0.650566</td>\n",
       "      <td>0.132636</td>\n",
       "      <td>0.350795</td>\n",
       "      <td>-0.696311</td>\n",
       "      <td>-0.198968</td>\n",
       "      <td>0.212994</td>\n",
       "      <td>-0.968428</td>\n",
       "      <td>-0.054074</td>\n",
       "      <td>0.946059</td>\n",
       "      <td>-0.815505</td>\n",
       "      <td>-0.932314</td>\n",
       "    </tr>\n",
       "    <tr>\n",
       "      <th>4</th>\n",
       "      <td>0.650566</td>\n",
       "      <td>1.155616</td>\n",
       "      <td>1.240920</td>\n",
       "      <td>-0.696311</td>\n",
       "      <td>0.151236</td>\n",
       "      <td>-0.729676</td>\n",
       "      <td>-0.968428</td>\n",
       "      <td>-0.054074</td>\n",
       "      <td>-1.057017</td>\n",
       "      <td>1.226234</td>\n",
       "      <td>1.072600</td>\n",
       "    </tr>\n",
       "  </tbody>\n",
       "</table>\n",
       "</div>"
      ],
      "text/plain": [
       "        sex  trestbps   thalach     exang   oldpeak        ca      cp_0  \\\n",
       "0  0.650566 -1.117672  1.285426 -0.696311 -0.899374 -0.729676 -0.968428   \n",
       "1  0.650566 -0.378854 -0.272293 -0.696311 -0.549171  3.041003 -0.968428   \n",
       "2  0.650566  1.041951 -0.984393 -0.696311  1.376947 -0.729676  1.032601   \n",
       "3  0.650566  0.132636  0.350795 -0.696311 -0.198968  0.212994 -0.968428   \n",
       "4  0.650566  1.155616  1.240920 -0.696311  0.151236 -0.729676 -0.968428   \n",
       "\n",
       "     thal_0    thal_2    thal_3   slope_1  \n",
       "0 -0.054074  0.946059 -0.815505 -0.932314  \n",
       "1 -0.054074 -1.057017  1.226234  1.072600  \n",
       "2 -0.054074 -1.057017  1.226234  1.072600  \n",
       "3 -0.054074  0.946059 -0.815505 -0.932314  \n",
       "4 -0.054074 -1.057017  1.226234  1.072600  "
      ]
     },
     "execution_count": 886,
     "metadata": {},
     "output_type": "execute_result"
    }
   ],
   "source": [
    "X_train.head(5)"
   ]
  },
  {
   "cell_type": "markdown",
   "metadata": {},
   "source": [
    "## Метод k-ближайших соседей. Реализация в классе KNN_Classifier"
   ]
  },
  {
   "cell_type": "code",
   "execution_count": 887,
   "metadata": {},
   "outputs": [],
   "source": [
    "class KNN_Classifier(object):\n",
    "    def __init__(self, num_neighbors=5):\n",
    "        self._num_neighbors = num_neighbors\n",
    "        self.y_pred = []\n",
    "    \n",
    "    def euclidean_distance(self, row, data):                      #получение расстояний для одной строки\n",
    "        distances = np.array([])\n",
    "        for i in range(data.shape[0]):\n",
    "            distances = np.append(distances, (np.sqrt(((data[i] - row)**2).sum())))\n",
    "        return distances.reshape(data.shape[0], )                 #возвращаем столбец\n",
    "\n",
    "    def get_neighbors(self, distances, y):                     #выделение необходимых соседей и их метрик\n",
    "        neighbours = np.column_stack([distances, y])            #присоединяем к столбцу расстояний метки классов этих строк\n",
    "        neighbours = neighbours[np.argsort(neighbours[:, 0])]\n",
    "        \n",
    "        prediction = self.predict(neighbours[:self._num_neighbors, :])\n",
    "        return prediction\n",
    "    \n",
    "    def predict(self, neighbors):\n",
    "        vals, counts = np.unique(neighbors[:, -1:], return_counts=True)\n",
    "        return (vals[np.argmax(counts)])\n",
    "    \n",
    "    def fit(self, X_train, X_test, y_train): #предсказываем тестовые значения на тренировочных данных\n",
    "        for i in range(X_test.shape[0]):\n",
    "            distances = self.euclidean_distance(X_test[i], X_train)\n",
    "            self.y_pred.append(self.get_neighbors(distances, y_train))\n",
    "        return self\n",
    "    \n",
    "    def accuracy(self, y):\n",
    "        correct = 0\n",
    "        for i in range(y.shape[0]):\n",
    "#             if y.values[i] == self.y_pred[i]:\n",
    "            if y[i] == self.y_pred[i]:\n",
    "                correct += 1\n",
    "        return (correct / (y.shape[0]))\n",
    "    \n",
    "    def get_params(self, deep=True):\n",
    "        return {\"num_neighbors\": self._num_neighbors}\n",
    "\n",
    "    def set_params(self, **parameters):\n",
    "        for parameter, value in parameters.items():\n",
    "            setattr(self, parameter, value)\n",
    "        return self"
   ]
  },
  {
   "cell_type": "code",
   "execution_count": 888,
   "metadata": {},
   "outputs": [
    {
     "data": {
      "text/plain": [
       "[1.0, 0.0, 0.0, 1.0, 0.0, 1.0, 0.0, 0.0, 1.0, 0.0]"
      ]
     },
     "execution_count": 888,
     "metadata": {},
     "output_type": "execute_result"
    }
   ],
   "source": [
    "knn = KNN_Classifier(3)\n",
    "\n",
    "knn_fit = knn.fit(X_train.to_numpy(), X_test.to_numpy(), y_train.to_numpy())\n",
    "knn_fit.y_pred[:10]\n"
   ]
  },
  {
   "cell_type": "code",
   "execution_count": 889,
   "metadata": {},
   "outputs": [
    {
     "data": {
      "text/plain": [
       "527    1\n",
       "359    1\n",
       "447    0\n",
       "31     1\n",
       "621    0\n",
       "590    1\n",
       "905    0\n",
       "737    0\n",
       "76     1\n",
       "948    0\n",
       "Name: target, dtype: int64"
      ]
     },
     "execution_count": 889,
     "metadata": {},
     "output_type": "execute_result"
    }
   ],
   "source": [
    "y_test[:10]"
   ]
  },
  {
   "cell_type": "code",
   "execution_count": 890,
   "metadata": {},
   "outputs": [
    {
     "data": {
      "text/plain": [
       "0.9380530973451328"
      ]
     },
     "execution_count": 890,
     "metadata": {},
     "output_type": "execute_result"
    }
   ],
   "source": [
    "accuracy_score(y_test, knn_fit.y_pred)"
   ]
  },
  {
   "cell_type": "code",
   "execution_count": 891,
   "metadata": {},
   "outputs": [],
   "source": [
    "from sklearn.model_selection import KFold\n",
    "\n",
    "# датасет\n",
    "data = np.vstack([X_train, X_test])\n",
    "target = np.concatenate([y_train, y_test])\n",
    "data = np.column_stack([data, target])\n",
    "\n",
    "res_table = pd.DataFrame({'#':['k-neighbours', 'accuracy-score']})\n",
    "\n",
    "# подготовьте кросс валидацию\n",
    "kfold = KFold(n_splits = 5, shuffle = True, random_state = 1)\n",
    "num_neighbours = [3, 5, 7, 9]\n",
    "i = 1\n",
    "\n",
    "best_acc = 0\n",
    "nbrs = 0\n",
    "idx = 0\n",
    "\n",
    "# перечисление выборок датасета\n",
    "for k in num_neighbours:\n",
    "    i = 1\n",
    "    for train, test in kfold.split(data):\n",
    "        knn = KNN_Classifier(k)\n",
    "        knn_fit = knn.fit(data[train], data[test], data[:, -1:][train])\n",
    "        acc = knn.accuracy(data[:, -1:][test])\n",
    "        row = [k, acc]\n",
    "        res_table[f\"Split-{i}.{k}\"] = row\n",
    "        if acc > best_acc:\n",
    "            best_acc = acc  \n",
    "            nbrs = k\n",
    "            idx = i\n",
    "        i+=1\n"
   ]
  },
  {
   "cell_type": "code",
   "execution_count": 892,
   "metadata": {},
   "outputs": [
    {
     "name": "stdout",
     "output_type": "stream",
     "text": [
      "Наилучшая точность 0.9805 достигается при 3 соседях на 2 сплите\n"
     ]
    }
   ],
   "source": [
    "print(f'Наилучшая точность %.4f достигается при %.f соседях на %.f сплите' % (best_acc, nbrs, idx))"
   ]
  },
  {
   "cell_type": "code",
   "execution_count": 893,
   "metadata": {},
   "outputs": [
    {
     "data": {
      "text/html": [
       "<div>\n",
       "<style scoped>\n",
       "    .dataframe tbody tr th:only-of-type {\n",
       "        vertical-align: middle;\n",
       "    }\n",
       "\n",
       "    .dataframe tbody tr th {\n",
       "        vertical-align: top;\n",
       "    }\n",
       "\n",
       "    .dataframe thead th {\n",
       "        text-align: right;\n",
       "    }\n",
       "</style>\n",
       "<table border=\"1\" class=\"dataframe\">\n",
       "  <thead>\n",
       "    <tr style=\"text-align: right;\">\n",
       "      <th></th>\n",
       "      <th>#</th>\n",
       "      <th>Split-1.3</th>\n",
       "      <th>Split-2.3</th>\n",
       "      <th>Split-3.3</th>\n",
       "      <th>Split-4.3</th>\n",
       "      <th>Split-5.3</th>\n",
       "      <th>Split-1.5</th>\n",
       "      <th>Split-2.5</th>\n",
       "      <th>Split-3.5</th>\n",
       "      <th>Split-4.5</th>\n",
       "    </tr>\n",
       "  </thead>\n",
       "  <tbody>\n",
       "    <tr>\n",
       "      <th>0</th>\n",
       "      <td>k-neighbours</td>\n",
       "      <td>3.00000</td>\n",
       "      <td>3.000000</td>\n",
       "      <td>3.000000</td>\n",
       "      <td>3.00000</td>\n",
       "      <td>3.000000</td>\n",
       "      <td>5.000000</td>\n",
       "      <td>5.000000</td>\n",
       "      <td>5.000000</td>\n",
       "      <td>5.000000</td>\n",
       "    </tr>\n",
       "    <tr>\n",
       "      <th>1</th>\n",
       "      <td>accuracy-score</td>\n",
       "      <td>0.97561</td>\n",
       "      <td>0.980488</td>\n",
       "      <td>0.970732</td>\n",
       "      <td>0.95122</td>\n",
       "      <td>0.960976</td>\n",
       "      <td>0.936585</td>\n",
       "      <td>0.917073</td>\n",
       "      <td>0.892683</td>\n",
       "      <td>0.917073</td>\n",
       "    </tr>\n",
       "  </tbody>\n",
       "</table>\n",
       "</div>"
      ],
      "text/plain": [
       "                #  Split-1.3  Split-2.3  Split-3.3  Split-4.3  Split-5.3  \\\n",
       "0    k-neighbours    3.00000   3.000000   3.000000    3.00000   3.000000   \n",
       "1  accuracy-score    0.97561   0.980488   0.970732    0.95122   0.960976   \n",
       "\n",
       "   Split-1.5  Split-2.5  Split-3.5  Split-4.5  \n",
       "0   5.000000   5.000000   5.000000   5.000000  \n",
       "1   0.936585   0.917073   0.892683   0.917073  "
      ]
     },
     "execution_count": 893,
     "metadata": {},
     "output_type": "execute_result"
    }
   ],
   "source": [
    "res_table.iloc[:, :10]"
   ]
  },
  {
   "cell_type": "markdown",
   "metadata": {},
   "source": [
    "## Проверка выполнения алгоритма с помощью библиотечных реализаций\n",
    "***(logistic regression, svm, knn, naive bayes, decision tree)***"
   ]
  },
  {
   "cell_type": "markdown",
   "metadata": {},
   "source": [
    "### Sklearn: LogisticRegression"
   ]
  },
  {
   "cell_type": "code",
   "execution_count": 894,
   "metadata": {},
   "outputs": [
    {
     "name": "stdout",
     "output_type": "stream",
     "text": [
      "Test Accuracy 0.8466\n"
     ]
    }
   ],
   "source": [
    "from sklearn.linear_model import LogisticRegression\n",
    "accuracies = {}\n",
    "\n",
    "lr = LogisticRegression()\n",
    "lr.fit(X_train, y_train)\n",
    "acc = lr.score(X_test, y_test)\n",
    "\n",
    "accuracies['Logistic Regression'] = acc\n",
    "print(\"Test Accuracy {:.4f}\".format(acc))"
   ]
  },
  {
   "cell_type": "markdown",
   "metadata": {},
   "source": [
    "### Sklearn: SVM"
   ]
  },
  {
   "cell_type": "code",
   "execution_count": 895,
   "metadata": {},
   "outputs": [
    {
     "name": "stdout",
     "output_type": "stream",
     "text": [
      "Test Accuracy of SVM Algorithm: 0.8761\n"
     ]
    }
   ],
   "source": [
    "from sklearn.svm import SVC\n",
    "\n",
    "svm = SVC(random_state = 12)\n",
    "svm.fit(X_train, y_train)\n",
    "\n",
    "acc = svm.score(X_test, y_test)\n",
    "accuracies['SVM'] = acc\n",
    "print(\"Test Accuracy of SVM Algorithm: {:.4f}\".format(acc))"
   ]
  },
  {
   "cell_type": "markdown",
   "metadata": {},
   "source": [
    "### Sklearn: KNeighborsClassifier"
   ]
  },
  {
   "cell_type": "code",
   "execution_count": 896,
   "metadata": {},
   "outputs": [
    {
     "name": "stdout",
     "output_type": "stream",
     "text": [
      "3 NN Score: 0.9381\n"
     ]
    }
   ],
   "source": [
    "from sklearn.neighbors import KNeighborsClassifier\n",
    "knn = KNeighborsClassifier(n_neighbors = 3)  # n_neighbors means k\n",
    "knn.fit(X_train, y_train)\n",
    "prediction = knn.predict(X_test)\n",
    "\n",
    "print(\"{} NN Score: {:.4f}\".format(3, knn.score(X_test, y_test)))"
   ]
  },
  {
   "cell_type": "markdown",
   "metadata": {},
   "source": [
    "### Sklearn: naive_bayes"
   ]
  },
  {
   "cell_type": "code",
   "execution_count": 897,
   "metadata": {},
   "outputs": [
    {
     "name": "stdout",
     "output_type": "stream",
     "text": [
      "Accuracy of Naive Bayes: 0.6224\n"
     ]
    }
   ],
   "source": [
    "from sklearn.naive_bayes import GaussianNB\n",
    "nb = GaussianNB()\n",
    "nb.fit(X_train, y_train)\n",
    "\n",
    "acc = nb.score(X_test, y_test)\n",
    "accuracies['Naive Bayes'] = acc\n",
    "print(\"Accuracy of Naive Bayes: {:.4f}\".format(acc))"
   ]
  },
  {
   "cell_type": "markdown",
   "metadata": {},
   "source": [
    "### Sklearn: DecisionTreeClassifier"
   ]
  },
  {
   "cell_type": "code",
   "execution_count": 898,
   "metadata": {},
   "outputs": [
    {
     "name": "stdout",
     "output_type": "stream",
     "text": [
      "Decision Tree Test Accuracy 1.0000\n"
     ]
    }
   ],
   "source": [
    "from sklearn.tree import DecisionTreeClassifier\n",
    "dtc = DecisionTreeClassifier()\n",
    "dtc.fit(X_train, y_train)\n",
    "\n",
    "acc = dtc.score(X_test, y_test)\n",
    "accuracies['Decision Tree'] = acc\n",
    "print(\"Decision Tree Test Accuracy {:.4f}\".format(acc))"
   ]
  },
  {
   "cell_type": "markdown",
   "metadata": {},
   "source": [
    "## Confusion matrices"
   ]
  },
  {
   "cell_type": "code",
   "execution_count": 899,
   "metadata": {
    "_uuid": "3a280577a5739b773e3ce0ca50d3cda671ba9a32"
   },
   "outputs": [],
   "source": [
    "# Predicted values\n",
    "my_knn = best_acc\n",
    "y_head_lr = lr.predict(X_test)\n",
    "knn3 = KNeighborsClassifier(n_neighbors = 3)\n",
    "knn3.fit(X_train, y_train)\n",
    "y_head_knn = knn3.predict(X_test)\n",
    "y_head_svm = svm.predict(X_test)\n",
    "y_head_nb = nb.predict(X_test)\n",
    "y_head_dtc = dtc.predict(X_test)\n",
    "knn = KNN_Classifier(3)\n",
    "knn_fit = knn.fit(X_train.to_numpy(), X_test.to_numpy(), y_train.to_numpy())\n",
    "y_head_knnc = knn_fit.y_pred"
   ]
  },
  {
   "cell_type": "code",
   "execution_count": 900,
   "metadata": {
    "_uuid": "89e2140778e93d3eecfc41d5b995cb9131633313"
   },
   "outputs": [],
   "source": [
    "from sklearn.metrics import confusion_matrix\n",
    "\n",
    "cm_lr = confusion_matrix(y_test, y_head_lr)\n",
    "cm_knn = confusion_matrix(y_test, y_head_knn)\n",
    "cm_svm = confusion_matrix(y_test, y_head_svm)\n",
    "cm_nb = confusion_matrix(y_test, y_head_nb)\n",
    "cm_dtc = confusion_matrix(y_test, y_head_dtc)\n",
    "cm_knnc = confusion_matrix(y_test, y_head_knnc)"
   ]
  },
  {
   "cell_type": "code",
   "execution_count": 901,
   "metadata": {
    "_uuid": "b91a2a68b5cc12ea58f255731cf76d49fd2ed5ec"
   },
   "outputs": [
    {
     "data": {
      "image/png": "[encoded data removed]",
      "text/plain": [
       "<Figure size 2400x1200 with 6 Axes>"
      ]
     },
     "metadata": {},
     "output_type": "display_data"
    }
   ],
   "source": [
    "plt.figure(figsize=(24, 12))\n",
    "\n",
    "plt.suptitle(\"Confusion Matrices\", fontsize=24)\n",
    "plt.subplots_adjust(wspace = 0.4, hspace= 0.4)\n",
    "\n",
    "plt.subplot(2,3,1)\n",
    "plt.title(\"Logistic Regression Confusion Matrix\")\n",
    "sns.heatmap(cm_lr,annot=True,cmap=\"Blues\",fmt=\"d\",cbar=False, annot_kws={\"size\": 24})\n",
    "\n",
    "plt.subplot(2,3,2)\n",
    "plt.title(\"K Nearest Neighbors Confusion Matrix\")\n",
    "sns.heatmap(cm_knn,annot=True,cmap=\"Blues\",fmt=\"d\",cbar=False, annot_kws={\"size\": 24})\n",
    "\n",
    "plt.subplot(2,3,3)\n",
    "plt.title(\"Support Vector Machine Confusion Matrix\")\n",
    "sns.heatmap(cm_svm,annot=True,cmap=\"Blues\",fmt=\"d\",cbar=False, annot_kws={\"size\": 24})\n",
    "\n",
    "plt.subplot(2,3,4)\n",
    "plt.title(\"Naive Bayes Confusion Matrix\")\n",
    "sns.heatmap(cm_nb,annot=True,cmap=\"Blues\",fmt=\"d\",cbar=False, annot_kws={\"size\": 24})\n",
    "\n",
    "plt.subplot(2,3,5)\n",
    "plt.title(\"Decision Tree Classifier Confusion Matrix\")\n",
    "sns.heatmap(cm_dtc,annot=True,cmap=\"Blues\",fmt=\"d\",cbar=False, annot_kws={\"size\": 24})\n",
    "\n",
    "plt.subplot(2,3,6)\n",
    "plt.title(\"My own KNN_Classifier\")\n",
    "sns.heatmap(cm_knnc,annot=True,cmap=\"Blues\",fmt=\"d\",cbar=False, annot_kws={\"size\": 24})\n",
    "\n",
    "plt.show()"
   ]
  },
  {
   "cell_type": "markdown",
   "metadata": {},
   "source": [
    "### Матрица разработанного решения(правый нижний угол) полностью совпадает с библиотечной реализацией KNN. Наилучшие показатели у Decision Tree Classifier."
   ]
  },
  {
   "cell_type": "markdown",
   "metadata": {},
   "source": [
    "## Logistic Regression. Реализация в классе LogR_Classifier"
   ]
  },
  {
   "cell_type": "code",
   "execution_count": 909,
   "metadata": {},
   "outputs": [],
   "source": [
    "class LogR_Classifier(object):\n",
    "    \n",
    "    def __init__(self, n_iter = 100, learning_rate = 0.01):\n",
    "        self.w = None\n",
    "        self.b = 0.1\n",
    "        self.n_iter = n_iter\n",
    "        self.lr = learning_rate\n",
    "        \n",
    "    def fit(self, X, y):\n",
    "\n",
    "        n = X.shape[0]\n",
    "        m = X.shape[1]\n",
    "        self.w = np.random.uniform(0,1, m) # colom 1\n",
    "        print('w', self.w.shape)\n",
    "        \n",
    "        for i in range(10000):\n",
    "            z = X.dot(self.w) + self.b\n",
    "            y_pred = self.sigmoid(z)\n",
    "            l = self.square_loss(y_pred, y)        \n",
    "            gradient_W = np.dot((y_pred-y).T, X)/m\n",
    "            gradient_b = np.mean(y_pred-y)\n",
    "            self.w -= self.lr * gradient_W\n",
    "            self.b -= self.lr * gradient_b\n",
    "    \n",
    "    def sigmoid(self, x):\n",
    "        return 1/(1+np.exp(-x))\n",
    "    \n",
    "    def square_loss(self, y_pred, target):\n",
    "        return np.mean((y_pred - target)**2)\n",
    "    \n",
    "    def predict(self, X):\n",
    "        res = np.array([])\n",
    "        res = np.append(res, self.sigmoid(np.dot(X, self.w) + self.b))\n",
    "        return np.where(res >= 0.5, 1, 0)"
   ]
  },
  {
   "cell_type": "code",
   "execution_count": 910,
   "metadata": {},
   "outputs": [
    {
     "data": {
      "text/plain": [
       "(686, 11)"
      ]
     },
     "execution_count": 910,
     "metadata": {},
     "output_type": "execute_result"
    }
   ],
   "source": [
    "X_train.shape"
   ]
  },
  {
   "cell_type": "code",
   "execution_count": 911,
   "metadata": {},
   "outputs": [
    {
     "name": "stdout",
     "output_type": "stream",
     "text": [
      "w (11,)\n"
     ]
    }
   ],
   "source": [
    "logr = LogR_Classifier(100, 0.01)\n",
    "logr_fit = logr.fit(X_train.to_numpy(), y_train.to_numpy())"
   ]
  },
  {
   "cell_type": "code",
   "execution_count": 912,
   "metadata": {},
   "outputs": [
    {
     "data": {
      "text/plain": [
       "array([1, 0, 0, 1, 0, 1, 0, 0, 0, 1])"
      ]
     },
     "execution_count": 912,
     "metadata": {},
     "output_type": "execute_result"
    }
   ],
   "source": [
    "y_pred = logr.predict(X_train)\n",
    "y_pred[:10]"
   ]
  },
  {
   "cell_type": "code",
   "execution_count": 913,
   "metadata": {},
   "outputs": [
    {
     "data": {
      "text/plain": [
       "(686,)"
      ]
     },
     "execution_count": 913,
     "metadata": {},
     "output_type": "execute_result"
    }
   ],
   "source": [
    "y_pred.shape"
   ]
  },
  {
   "cell_type": "code",
   "execution_count": 914,
   "metadata": {},
   "outputs": [
    {
     "data": {
      "text/plain": [
       "866    1\n",
       "749    1\n",
       "212    0\n",
       "79     1\n",
       "148    1\n",
       "302    1\n",
       "798    0\n",
       "633    0\n",
       "523    0\n",
       "365    1\n",
       "Name: target, dtype: int64"
      ]
     },
     "execution_count": 914,
     "metadata": {},
     "output_type": "execute_result"
    }
   ],
   "source": [
    "y_train[:10]"
   ]
  },
  {
   "cell_type": "code",
   "execution_count": 915,
   "metadata": {},
   "outputs": [
    {
     "data": {
      "text/plain": [
       "0.8746355685131195"
      ]
     },
     "execution_count": 915,
     "metadata": {},
     "output_type": "execute_result"
    }
   ],
   "source": [
    "accuracy_score(y_train, y_pred)"
   ]
  },
  {
   "cell_type": "code",
   "execution_count": 917,
   "metadata": {},
   "outputs": [
    {
     "data": {
      "text/plain": [
       "0.8407079646017699"
      ]
     },
     "execution_count": 917,
     "metadata": {},
     "output_type": "execute_result"
    }
   ],
   "source": [
    "y_pred_test = logr.predict(X_test)\n",
    "accuracy_score(y_test, y_pred_test)"
   ]
  },
  {
   "cell_type": "code",
   "execution_count": 920,
   "metadata": {},
   "outputs": [],
   "source": []
  },
  {
   "cell_type": "code",
   "execution_count": null,
   "metadata": {},
   "outputs": [],
   "source": []
  }
 ],
 "metadata": {
  "kernelspec": {
   "display_name": "Python 3 (ipykernel)",
   "language": "python",
   "name": "python3"
  },
  "language_info": {
   "codemirror_mode": {
    "name": "ipython",
    "version": 3
   },
   "file_extension": ".py",
   "mimetype": "text/x-python",
   "name": "python",
   "nbconvert_exporter": "python",
   "pygments_lexer": "ipython3",
   "version": "3.8.18"
  }
 },
 "nbformat": 4,
 "nbformat_minor": 4
}
